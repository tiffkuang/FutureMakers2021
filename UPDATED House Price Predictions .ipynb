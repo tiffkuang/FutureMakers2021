{
 "cells": [
  {
   "cell_type": "code",
   "execution_count": 1,
   "id": "5497b396",
   "metadata": {},
   "outputs": [],
   "source": [
    "import pandas as pd"
   ]
  },
  {
   "cell_type": "code",
   "execution_count": 2,
   "id": "6d5b2661",
   "metadata": {},
   "outputs": [],
   "source": [
    "df = pd.read_csv('housepricedata.csv')"
   ]
  },
  {
   "cell_type": "code",
   "execution_count": 3,
   "id": "9a51f3c3",
   "metadata": {},
   "outputs": [
    {
     "data": {
      "text/html": [
       "<div>\n",
       "<style scoped>\n",
       "    .dataframe tbody tr th:only-of-type {\n",
       "        vertical-align: middle;\n",
       "    }\n",
       "\n",
       "    .dataframe tbody tr th {\n",
       "        vertical-align: top;\n",
       "    }\n",
       "\n",
       "    .dataframe thead th {\n",
       "        text-align: right;\n",
       "    }\n",
       "</style>\n",
       "<table border=\"1\" class=\"dataframe\">\n",
       "  <thead>\n",
       "    <tr style=\"text-align: right;\">\n",
       "      <th></th>\n",
       "      <th>LotArea</th>\n",
       "      <th>OverallQual</th>\n",
       "      <th>OverallCond</th>\n",
       "      <th>TotalBsmtSF</th>\n",
       "      <th>FullBath</th>\n",
       "      <th>HalfBath</th>\n",
       "      <th>BedroomAbvGr</th>\n",
       "      <th>TotRmsAbvGrd</th>\n",
       "      <th>Fireplaces</th>\n",
       "      <th>GarageArea</th>\n",
       "      <th>AboveMedianPrice</th>\n",
       "    </tr>\n",
       "  </thead>\n",
       "  <tbody>\n",
       "    <tr>\n",
       "      <th>0</th>\n",
       "      <td>8450</td>\n",
       "      <td>7</td>\n",
       "      <td>5</td>\n",
       "      <td>856</td>\n",
       "      <td>2</td>\n",
       "      <td>1</td>\n",
       "      <td>3</td>\n",
       "      <td>8</td>\n",
       "      <td>0</td>\n",
       "      <td>548</td>\n",
       "      <td>1</td>\n",
       "    </tr>\n",
       "    <tr>\n",
       "      <th>1</th>\n",
       "      <td>9600</td>\n",
       "      <td>6</td>\n",
       "      <td>8</td>\n",
       "      <td>1262</td>\n",
       "      <td>2</td>\n",
       "      <td>0</td>\n",
       "      <td>3</td>\n",
       "      <td>6</td>\n",
       "      <td>1</td>\n",
       "      <td>460</td>\n",
       "      <td>1</td>\n",
       "    </tr>\n",
       "    <tr>\n",
       "      <th>2</th>\n",
       "      <td>11250</td>\n",
       "      <td>7</td>\n",
       "      <td>5</td>\n",
       "      <td>920</td>\n",
       "      <td>2</td>\n",
       "      <td>1</td>\n",
       "      <td>3</td>\n",
       "      <td>6</td>\n",
       "      <td>1</td>\n",
       "      <td>608</td>\n",
       "      <td>1</td>\n",
       "    </tr>\n",
       "    <tr>\n",
       "      <th>3</th>\n",
       "      <td>9550</td>\n",
       "      <td>7</td>\n",
       "      <td>5</td>\n",
       "      <td>756</td>\n",
       "      <td>1</td>\n",
       "      <td>0</td>\n",
       "      <td>3</td>\n",
       "      <td>7</td>\n",
       "      <td>1</td>\n",
       "      <td>642</td>\n",
       "      <td>0</td>\n",
       "    </tr>\n",
       "    <tr>\n",
       "      <th>4</th>\n",
       "      <td>14260</td>\n",
       "      <td>8</td>\n",
       "      <td>5</td>\n",
       "      <td>1145</td>\n",
       "      <td>2</td>\n",
       "      <td>1</td>\n",
       "      <td>4</td>\n",
       "      <td>9</td>\n",
       "      <td>1</td>\n",
       "      <td>836</td>\n",
       "      <td>1</td>\n",
       "    </tr>\n",
       "    <tr>\n",
       "      <th>...</th>\n",
       "      <td>...</td>\n",
       "      <td>...</td>\n",
       "      <td>...</td>\n",
       "      <td>...</td>\n",
       "      <td>...</td>\n",
       "      <td>...</td>\n",
       "      <td>...</td>\n",
       "      <td>...</td>\n",
       "      <td>...</td>\n",
       "      <td>...</td>\n",
       "      <td>...</td>\n",
       "    </tr>\n",
       "    <tr>\n",
       "      <th>1455</th>\n",
       "      <td>7917</td>\n",
       "      <td>6</td>\n",
       "      <td>5</td>\n",
       "      <td>953</td>\n",
       "      <td>2</td>\n",
       "      <td>1</td>\n",
       "      <td>3</td>\n",
       "      <td>7</td>\n",
       "      <td>1</td>\n",
       "      <td>460</td>\n",
       "      <td>1</td>\n",
       "    </tr>\n",
       "    <tr>\n",
       "      <th>1456</th>\n",
       "      <td>13175</td>\n",
       "      <td>6</td>\n",
       "      <td>6</td>\n",
       "      <td>1542</td>\n",
       "      <td>2</td>\n",
       "      <td>0</td>\n",
       "      <td>3</td>\n",
       "      <td>7</td>\n",
       "      <td>2</td>\n",
       "      <td>500</td>\n",
       "      <td>1</td>\n",
       "    </tr>\n",
       "    <tr>\n",
       "      <th>1457</th>\n",
       "      <td>9042</td>\n",
       "      <td>7</td>\n",
       "      <td>9</td>\n",
       "      <td>1152</td>\n",
       "      <td>2</td>\n",
       "      <td>0</td>\n",
       "      <td>4</td>\n",
       "      <td>9</td>\n",
       "      <td>2</td>\n",
       "      <td>252</td>\n",
       "      <td>1</td>\n",
       "    </tr>\n",
       "    <tr>\n",
       "      <th>1458</th>\n",
       "      <td>9717</td>\n",
       "      <td>5</td>\n",
       "      <td>6</td>\n",
       "      <td>1078</td>\n",
       "      <td>1</td>\n",
       "      <td>0</td>\n",
       "      <td>2</td>\n",
       "      <td>5</td>\n",
       "      <td>0</td>\n",
       "      <td>240</td>\n",
       "      <td>0</td>\n",
       "    </tr>\n",
       "    <tr>\n",
       "      <th>1459</th>\n",
       "      <td>9937</td>\n",
       "      <td>5</td>\n",
       "      <td>6</td>\n",
       "      <td>1256</td>\n",
       "      <td>1</td>\n",
       "      <td>1</td>\n",
       "      <td>3</td>\n",
       "      <td>6</td>\n",
       "      <td>0</td>\n",
       "      <td>276</td>\n",
       "      <td>0</td>\n",
       "    </tr>\n",
       "  </tbody>\n",
       "</table>\n",
       "<p>1460 rows × 11 columns</p>\n",
       "</div>"
      ],
      "text/plain": [
       "      LotArea  OverallQual  OverallCond  TotalBsmtSF  FullBath  HalfBath  \\\n",
       "0        8450            7            5          856         2         1   \n",
       "1        9600            6            8         1262         2         0   \n",
       "2       11250            7            5          920         2         1   \n",
       "3        9550            7            5          756         1         0   \n",
       "4       14260            8            5         1145         2         1   \n",
       "...       ...          ...          ...          ...       ...       ...   \n",
       "1455     7917            6            5          953         2         1   \n",
       "1456    13175            6            6         1542         2         0   \n",
       "1457     9042            7            9         1152         2         0   \n",
       "1458     9717            5            6         1078         1         0   \n",
       "1459     9937            5            6         1256         1         1   \n",
       "\n",
       "      BedroomAbvGr  TotRmsAbvGrd  Fireplaces  GarageArea  AboveMedianPrice  \n",
       "0                3             8           0         548                 1  \n",
       "1                3             6           1         460                 1  \n",
       "2                3             6           1         608                 1  \n",
       "3                3             7           1         642                 0  \n",
       "4                4             9           1         836                 1  \n",
       "...            ...           ...         ...         ...               ...  \n",
       "1455             3             7           1         460                 1  \n",
       "1456             3             7           2         500                 1  \n",
       "1457             4             9           2         252                 1  \n",
       "1458             2             5           0         240                 0  \n",
       "1459             3             6           0         276                 0  \n",
       "\n",
       "[1460 rows x 11 columns]"
      ]
     },
     "execution_count": 3,
     "metadata": {},
     "output_type": "execute_result"
    }
   ],
   "source": [
    "df"
   ]
  },
  {
   "cell_type": "code",
   "execution_count": 4,
   "id": "6da1d05d",
   "metadata": {},
   "outputs": [],
   "source": [
    "dataset = df.values"
   ]
  },
  {
   "cell_type": "code",
   "execution_count": 5,
   "id": "8194dd6a",
   "metadata": {},
   "outputs": [
    {
     "data": {
      "text/plain": [
       "array([[ 8450,     7,     5, ...,     0,   548,     1],\n",
       "       [ 9600,     6,     8, ...,     1,   460,     1],\n",
       "       [11250,     7,     5, ...,     1,   608,     1],\n",
       "       ...,\n",
       "       [ 9042,     7,     9, ...,     2,   252,     1],\n",
       "       [ 9717,     5,     6, ...,     0,   240,     0],\n",
       "       [ 9937,     5,     6, ...,     0,   276,     0]])"
      ]
     },
     "execution_count": 5,
     "metadata": {},
     "output_type": "execute_result"
    }
   ],
   "source": [
    "dataset"
   ]
  },
  {
   "cell_type": "code",
   "execution_count": 6,
   "id": "e06cd867",
   "metadata": {},
   "outputs": [],
   "source": [
    "X = dataset[:,0:10]"
   ]
  },
  {
   "cell_type": "code",
   "execution_count": 7,
   "id": "fef2444b",
   "metadata": {},
   "outputs": [],
   "source": [
    "Y = dataset[:,10]"
   ]
  },
  {
   "cell_type": "code",
   "execution_count": 8,
   "id": "80d2e777",
   "metadata": {},
   "outputs": [],
   "source": [
    "from sklearn import preprocessing"
   ]
  },
  {
   "cell_type": "code",
   "execution_count": 9,
   "id": "01e9713c",
   "metadata": {},
   "outputs": [],
   "source": [
    "min_max_scaler = preprocessing.MinMaxScaler()\n",
    "X_scale = min_max_scaler.fit_transform(X)"
   ]
  },
  {
   "cell_type": "code",
   "execution_count": 10,
   "id": "d808026a",
   "metadata": {},
   "outputs": [
    {
     "data": {
      "text/plain": [
       "array([[0.0334198 , 0.66666667, 0.5       , ..., 0.5       , 0.        ,\n",
       "        0.3864598 ],\n",
       "       [0.03879502, 0.55555556, 0.875     , ..., 0.33333333, 0.33333333,\n",
       "        0.32440056],\n",
       "       [0.04650728, 0.66666667, 0.5       , ..., 0.33333333, 0.33333333,\n",
       "        0.42877292],\n",
       "       ...,\n",
       "       [0.03618687, 0.66666667, 1.        , ..., 0.58333333, 0.66666667,\n",
       "        0.17771509],\n",
       "       [0.03934189, 0.44444444, 0.625     , ..., 0.25      , 0.        ,\n",
       "        0.16925247],\n",
       "       [0.04037019, 0.44444444, 0.625     , ..., 0.33333333, 0.        ,\n",
       "        0.19464034]])"
      ]
     },
     "execution_count": 10,
     "metadata": {},
     "output_type": "execute_result"
    }
   ],
   "source": [
    "X_scale"
   ]
  },
  {
   "cell_type": "code",
   "execution_count": 11,
   "id": "c86d3ddd",
   "metadata": {},
   "outputs": [],
   "source": [
    "from sklearn.model_selection import train_test_split"
   ]
  },
  {
   "cell_type": "code",
   "execution_count": 12,
   "id": "06c6b278",
   "metadata": {},
   "outputs": [],
   "source": [
    "X_train, X_val_and_test, Y_train, Y_val_and_test = train_test_split(X_scale, Y, test_size=0.3)\n",
    "X_val, X_test, Y_val, Y_test = train_test_split(X_val_and_test, Y_val_and_test, test_size=0.5)"
   ]
  },
  {
   "cell_type": "code",
   "execution_count": 13,
   "id": "d4be6bba",
   "metadata": {},
   "outputs": [
    {
     "name": "stdout",
     "output_type": "stream",
     "text": [
      "(1022, 10) (219, 10) (219, 10) (1022,) (219,) (219,)\n"
     ]
    }
   ],
   "source": [
    "print(X_train.shape, X_val.shape, X_test.shape, Y_train.shape, Y_val.shape, Y_test.shape)"
   ]
  },
  {
   "cell_type": "code",
   "execution_count": 21,
   "id": "e625efc6",
   "metadata": {},
   "outputs": [],
   "source": [
    "from tensorflow.keras.models import Sequential\n",
    "from tensorflow.keras.layers import Dense\n",
    "import tensorflow as tf\n",
    "from tensorflow.keras.optimizers import Adam"
   ]
  },
  {
   "cell_type": "code",
   "execution_count": 22,
   "id": "155a91eb",
   "metadata": {},
   "outputs": [],
   "source": [
    "model = Sequential([\n",
    "    Dense(32, activation='relu', input_shape=(10,)),\n",
    "    Dense(32, activation='relu'),\n",
    "    Dense(1, activation='sigmoid'),\n",
    "])"
   ]
  },
  {
   "cell_type": "code",
   "execution_count": 23,
   "id": "68d6d0c5",
   "metadata": {
    "scrolled": false
   },
   "outputs": [],
   "source": [
    "opd = tf.keras.optimizers.Adam(\n",
    "    learning_rate=0.001)"
   ]
  },
  {
   "cell_type": "code",
   "execution_count": 24,
   "id": "367fd8a1",
   "metadata": {},
   "outputs": [],
   "source": [
    "model.compile(optimizer='sgd',\n",
    "              loss='binary_crossentropy',\n",
    "              metrics=['accuracy'])"
   ]
  },
  {
   "cell_type": "code",
   "execution_count": 25,
   "id": "a4ff7fcb",
   "metadata": {},
   "outputs": [
    {
     "name": "stdout",
     "output_type": "stream",
     "text": [
      "Train on 1022 samples, validate on 219 samples\n",
      "Epoch 1/100\n",
      "1022/1022 [==============================] - 1s 693us/sample - loss: 0.6787 - accuracy: 0.4941 - val_loss: 0.6639 - val_accuracy: 0.5434\n",
      "Epoch 2/100\n",
      "1022/1022 [==============================] - 0s 65us/sample - loss: 0.6730 - accuracy: 0.5088 - val_loss: 0.6583 - val_accuracy: 0.5662\n",
      "Epoch 3/100\n",
      "1022/1022 [==============================] - 0s 64us/sample - loss: 0.6675 - accuracy: 0.5382 - val_loss: 0.6530 - val_accuracy: 0.6484\n",
      "Epoch 4/100\n",
      "1022/1022 [==============================] - 0s 65us/sample - loss: 0.6621 - accuracy: 0.6252 - val_loss: 0.6469 - val_accuracy: 0.6895\n",
      "Epoch 5/100\n",
      "1022/1022 [==============================] - 0s 66us/sample - loss: 0.6558 - accuracy: 0.6771 - val_loss: 0.6405 - val_accuracy: 0.7580\n",
      "Epoch 6/100\n",
      "1022/1022 [==============================] - 0s 60us/sample - loss: 0.6494 - accuracy: 0.7476 - val_loss: 0.6338 - val_accuracy: 0.8174\n",
      "Epoch 7/100\n",
      "1022/1022 [==============================] - 0s 60us/sample - loss: 0.6434 - accuracy: 0.7740 - val_loss: 0.6276 - val_accuracy: 0.8265\n",
      "Epoch 8/100\n",
      "1022/1022 [==============================] - 0s 65us/sample - loss: 0.6380 - accuracy: 0.7828 - val_loss: 0.6217 - val_accuracy: 0.8447\n",
      "Epoch 9/100\n",
      "1022/1022 [==============================] - 0s 61us/sample - loss: 0.6326 - accuracy: 0.8004 - val_loss: 0.6152 - val_accuracy: 0.8539\n",
      "Epoch 10/100\n",
      "1022/1022 [==============================] - 0s 63us/sample - loss: 0.6271 - accuracy: 0.8053 - val_loss: 0.6084 - val_accuracy: 0.8584\n",
      "Epoch 11/100\n",
      "1022/1022 [==============================] - 0s 63us/sample - loss: 0.6213 - accuracy: 0.8033 - val_loss: 0.6016 - val_accuracy: 0.8539\n",
      "Epoch 12/100\n",
      "1022/1022 [==============================] - 0s 64us/sample - loss: 0.6154 - accuracy: 0.8160 - val_loss: 0.5943 - val_accuracy: 0.8584\n",
      "Epoch 13/100\n",
      "1022/1022 [==============================] - 0s 64us/sample - loss: 0.6091 - accuracy: 0.8102 - val_loss: 0.5873 - val_accuracy: 0.8630\n",
      "Epoch 14/100\n",
      "1022/1022 [==============================] - 0s 65us/sample - loss: 0.6025 - accuracy: 0.8219 - val_loss: 0.5797 - val_accuracy: 0.8584\n",
      "Epoch 15/100\n",
      "1022/1022 [==============================] - 0s 62us/sample - loss: 0.5958 - accuracy: 0.8278 - val_loss: 0.5716 - val_accuracy: 0.8676\n",
      "Epoch 16/100\n",
      "1022/1022 [==============================] - 0s 63us/sample - loss: 0.5888 - accuracy: 0.8327 - val_loss: 0.5633 - val_accuracy: 0.8630\n",
      "Epoch 17/100\n",
      "1022/1022 [==============================] - 0s 60us/sample - loss: 0.5815 - accuracy: 0.8425 - val_loss: 0.5544 - val_accuracy: 0.8630\n",
      "Epoch 18/100\n",
      "1022/1022 [==============================] - 0s 62us/sample - loss: 0.5739 - accuracy: 0.8356 - val_loss: 0.5450 - val_accuracy: 0.8676\n",
      "Epoch 19/100\n",
      "1022/1022 [==============================] - 0s 62us/sample - loss: 0.5662 - accuracy: 0.8425 - val_loss: 0.5357 - val_accuracy: 0.8676\n",
      "Epoch 20/100\n",
      "1022/1022 [==============================] - 0s 62us/sample - loss: 0.5582 - accuracy: 0.8474 - val_loss: 0.5261 - val_accuracy: 0.8676\n",
      "Epoch 21/100\n",
      "1022/1022 [==============================] - 0s 60us/sample - loss: 0.5498 - accuracy: 0.8483 - val_loss: 0.5170 - val_accuracy: 0.8767\n",
      "Epoch 22/100\n",
      "1022/1022 [==============================] - 0s 60us/sample - loss: 0.5412 - accuracy: 0.8513 - val_loss: 0.5070 - val_accuracy: 0.8721\n",
      "Epoch 23/100\n",
      "1022/1022 [==============================] - 0s 60us/sample - loss: 0.5324 - accuracy: 0.8503 - val_loss: 0.4968 - val_accuracy: 0.8721\n",
      "Epoch 24/100\n",
      "1022/1022 [==============================] - 0s 63us/sample - loss: 0.5235 - accuracy: 0.8562 - val_loss: 0.4865 - val_accuracy: 0.8767\n",
      "Epoch 25/100\n",
      "1022/1022 [==============================] - 0s 62us/sample - loss: 0.5144 - accuracy: 0.8571 - val_loss: 0.4762 - val_accuracy: 0.8767\n",
      "Epoch 26/100\n",
      "1022/1022 [==============================] - 0s 62us/sample - loss: 0.5055 - accuracy: 0.8601 - val_loss: 0.4667 - val_accuracy: 0.8767\n",
      "Epoch 27/100\n",
      "1022/1022 [==============================] - 0s 66us/sample - loss: 0.4965 - accuracy: 0.8581 - val_loss: 0.4559 - val_accuracy: 0.8858\n",
      "Epoch 28/100\n",
      "1022/1022 [==============================] - 0s 63us/sample - loss: 0.4877 - accuracy: 0.8581 - val_loss: 0.4453 - val_accuracy: 0.8858\n",
      "Epoch 29/100\n",
      "1022/1022 [==============================] - 0s 64us/sample - loss: 0.4788 - accuracy: 0.8611 - val_loss: 0.4362 - val_accuracy: 0.8767\n",
      "Epoch 30/100\n",
      "1022/1022 [==============================] - 0s 62us/sample - loss: 0.4702 - accuracy: 0.8640 - val_loss: 0.4251 - val_accuracy: 0.8904\n",
      "Epoch 31/100\n",
      "1022/1022 [==============================] - 0s 63us/sample - loss: 0.4615 - accuracy: 0.8620 - val_loss: 0.4154 - val_accuracy: 0.8904\n",
      "Epoch 32/100\n",
      "1022/1022 [==============================] - 0s 63us/sample - loss: 0.4534 - accuracy: 0.8630 - val_loss: 0.4069 - val_accuracy: 0.8767\n",
      "Epoch 33/100\n",
      "1022/1022 [==============================] - 0s 62us/sample - loss: 0.4451 - accuracy: 0.8659 - val_loss: 0.3973 - val_accuracy: 0.8767\n",
      "Epoch 34/100\n",
      "1022/1022 [==============================] - 0s 62us/sample - loss: 0.4372 - accuracy: 0.8611 - val_loss: 0.3890 - val_accuracy: 0.8813\n",
      "Epoch 35/100\n",
      "1022/1022 [==============================] - 0s 62us/sample - loss: 0.4295 - accuracy: 0.8679 - val_loss: 0.3808 - val_accuracy: 0.8813\n",
      "Epoch 36/100\n",
      "1022/1022 [==============================] - 0s 65us/sample - loss: 0.4221 - accuracy: 0.8669 - val_loss: 0.3740 - val_accuracy: 0.8813\n",
      "Epoch 37/100\n",
      "1022/1022 [==============================] - 0s 63us/sample - loss: 0.4150 - accuracy: 0.8708 - val_loss: 0.3653 - val_accuracy: 0.8767\n",
      "Epoch 38/100\n",
      "1022/1022 [==============================] - 0s 63us/sample - loss: 0.4082 - accuracy: 0.8689 - val_loss: 0.3581 - val_accuracy: 0.8813\n",
      "Epoch 39/100\n",
      "1022/1022 [==============================] - 0s 62us/sample - loss: 0.4018 - accuracy: 0.8679 - val_loss: 0.3512 - val_accuracy: 0.8813\n",
      "Epoch 40/100\n",
      "1022/1022 [==============================] - 0s 63us/sample - loss: 0.3957 - accuracy: 0.8718 - val_loss: 0.3438 - val_accuracy: 0.8767\n",
      "Epoch 41/100\n",
      "1022/1022 [==============================] - 0s 64us/sample - loss: 0.3901 - accuracy: 0.8738 - val_loss: 0.3380 - val_accuracy: 0.8767\n",
      "Epoch 42/100\n",
      "1022/1022 [==============================] - 0s 64us/sample - loss: 0.3843 - accuracy: 0.8708 - val_loss: 0.3327 - val_accuracy: 0.8813\n",
      "Epoch 43/100\n",
      "1022/1022 [==============================] - 0s 66us/sample - loss: 0.3789 - accuracy: 0.8708 - val_loss: 0.3258 - val_accuracy: 0.8813\n",
      "Epoch 44/100\n",
      "1022/1022 [==============================] - 0s 62us/sample - loss: 0.3737 - accuracy: 0.8738 - val_loss: 0.3237 - val_accuracy: 0.8904\n",
      "Epoch 45/100\n",
      "1022/1022 [==============================] - 0s 63us/sample - loss: 0.3693 - accuracy: 0.8718 - val_loss: 0.3176 - val_accuracy: 0.8950\n",
      "Epoch 46/100\n",
      "1022/1022 [==============================] - 0s 63us/sample - loss: 0.3647 - accuracy: 0.8708 - val_loss: 0.3113 - val_accuracy: 0.8858\n",
      "Epoch 47/100\n",
      "1022/1022 [==============================] - 0s 61us/sample - loss: 0.3607 - accuracy: 0.8708 - val_loss: 0.3079 - val_accuracy: 0.8950\n",
      "Epoch 48/100\n",
      "1022/1022 [==============================] - 0s 61us/sample - loss: 0.3568 - accuracy: 0.8748 - val_loss: 0.3046 - val_accuracy: 0.8950\n",
      "Epoch 49/100\n",
      "1022/1022 [==============================] - 0s 62us/sample - loss: 0.3526 - accuracy: 0.8796 - val_loss: 0.2996 - val_accuracy: 0.8950\n",
      "Epoch 50/100\n",
      "1022/1022 [==============================] - 0s 61us/sample - loss: 0.3493 - accuracy: 0.8748 - val_loss: 0.2958 - val_accuracy: 0.8950\n",
      "Epoch 51/100\n",
      "1022/1022 [==============================] - 0s 62us/sample - loss: 0.3462 - accuracy: 0.8767 - val_loss: 0.2937 - val_accuracy: 0.8950\n",
      "Epoch 52/100\n",
      "1022/1022 [==============================] - 0s 61us/sample - loss: 0.3428 - accuracy: 0.8806 - val_loss: 0.2894 - val_accuracy: 0.9087\n",
      "Epoch 53/100\n",
      "1022/1022 [==============================] - 0s 61us/sample - loss: 0.3398 - accuracy: 0.8796 - val_loss: 0.2865 - val_accuracy: 0.9087\n",
      "Epoch 54/100\n",
      "1022/1022 [==============================] - 0s 59us/sample - loss: 0.3368 - accuracy: 0.8787 - val_loss: 0.2842 - val_accuracy: 0.9087\n",
      "Epoch 55/100\n",
      "1022/1022 [==============================] - 0s 61us/sample - loss: 0.3340 - accuracy: 0.8738 - val_loss: 0.2833 - val_accuracy: 0.8950\n",
      "Epoch 56/100\n",
      "1022/1022 [==============================] - 0s 61us/sample - loss: 0.3309 - accuracy: 0.8836 - val_loss: 0.2781 - val_accuracy: 0.9041\n",
      "Epoch 57/100\n",
      "1022/1022 [==============================] - 0s 60us/sample - loss: 0.3293 - accuracy: 0.8816 - val_loss: 0.2772 - val_accuracy: 0.9041\n",
      "Epoch 58/100\n",
      "1022/1022 [==============================] - 0s 60us/sample - loss: 0.3265 - accuracy: 0.8836 - val_loss: 0.2736 - val_accuracy: 0.9087\n",
      "Epoch 59/100\n",
      "1022/1022 [==============================] - 0s 63us/sample - loss: 0.3252 - accuracy: 0.8796 - val_loss: 0.2729 - val_accuracy: 0.9087\n",
      "Epoch 60/100\n",
      "1022/1022 [==============================] - 0s 61us/sample - loss: 0.3220 - accuracy: 0.8836 - val_loss: 0.2726 - val_accuracy: 0.8995\n",
      "Epoch 61/100\n",
      "1022/1022 [==============================] - 0s 58us/sample - loss: 0.3202 - accuracy: 0.8826 - val_loss: 0.2734 - val_accuracy: 0.8904\n",
      "Epoch 62/100\n",
      "1022/1022 [==============================] - 0s 60us/sample - loss: 0.3190 - accuracy: 0.8796 - val_loss: 0.2676 - val_accuracy: 0.9087\n",
      "Epoch 63/100\n",
      "1022/1022 [==============================] - 0s 62us/sample - loss: 0.3165 - accuracy: 0.8816 - val_loss: 0.2652 - val_accuracy: 0.9132\n",
      "Epoch 64/100\n",
      "1022/1022 [==============================] - 0s 62us/sample - loss: 0.3148 - accuracy: 0.8845 - val_loss: 0.2640 - val_accuracy: 0.9087\n",
      "Epoch 65/100\n",
      "1022/1022 [==============================] - 0s 59us/sample - loss: 0.3134 - accuracy: 0.8875 - val_loss: 0.2614 - val_accuracy: 0.9087\n",
      "Epoch 66/100\n",
      "1022/1022 [==============================] - 0s 59us/sample - loss: 0.3112 - accuracy: 0.8855 - val_loss: 0.2599 - val_accuracy: 0.9087\n",
      "Epoch 67/100\n",
      "1022/1022 [==============================] - 0s 61us/sample - loss: 0.3097 - accuracy: 0.8836 - val_loss: 0.2594 - val_accuracy: 0.9132\n",
      "Epoch 68/100\n",
      "1022/1022 [==============================] - 0s 61us/sample - loss: 0.3085 - accuracy: 0.8855 - val_loss: 0.2577 - val_accuracy: 0.9132\n",
      "Epoch 69/100\n",
      "1022/1022 [==============================] - 0s 61us/sample - loss: 0.3072 - accuracy: 0.8855 - val_loss: 0.2565 - val_accuracy: 0.9132\n",
      "Epoch 70/100\n",
      "1022/1022 [==============================] - 0s 59us/sample - loss: 0.3050 - accuracy: 0.8836 - val_loss: 0.2567 - val_accuracy: 0.9087\n",
      "Epoch 71/100\n",
      "1022/1022 [==============================] - 0s 60us/sample - loss: 0.3043 - accuracy: 0.8826 - val_loss: 0.2541 - val_accuracy: 0.9132\n",
      "Epoch 72/100\n",
      "1022/1022 [==============================] - 0s 59us/sample - loss: 0.3025 - accuracy: 0.8816 - val_loss: 0.2574 - val_accuracy: 0.8995\n",
      "Epoch 73/100\n",
      "1022/1022 [==============================] - 0s 59us/sample - loss: 0.3020 - accuracy: 0.8855 - val_loss: 0.2534 - val_accuracy: 0.9132\n",
      "Epoch 74/100\n",
      "1022/1022 [==============================] - 0s 59us/sample - loss: 0.3004 - accuracy: 0.8826 - val_loss: 0.2522 - val_accuracy: 0.9132\n",
      "Epoch 75/100\n",
      "1022/1022 [==============================] - 0s 59us/sample - loss: 0.2995 - accuracy: 0.8836 - val_loss: 0.2517 - val_accuracy: 0.9132\n",
      "Epoch 76/100\n",
      "1022/1022 [==============================] - 0s 60us/sample - loss: 0.2984 - accuracy: 0.8826 - val_loss: 0.2520 - val_accuracy: 0.9087\n",
      "Epoch 77/100\n",
      "1022/1022 [==============================] - 0s 60us/sample - loss: 0.2977 - accuracy: 0.8826 - val_loss: 0.2498 - val_accuracy: 0.9132\n",
      "Epoch 78/100\n",
      "1022/1022 [==============================] - 0s 60us/sample - loss: 0.2962 - accuracy: 0.8865 - val_loss: 0.2486 - val_accuracy: 0.9178\n",
      "Epoch 79/100\n",
      "1022/1022 [==============================] - 0s 59us/sample - loss: 0.2940 - accuracy: 0.8865 - val_loss: 0.2468 - val_accuracy: 0.9132\n",
      "Epoch 80/100\n",
      "1022/1022 [==============================] - 0s 59us/sample - loss: 0.2942 - accuracy: 0.8865 - val_loss: 0.2460 - val_accuracy: 0.9132\n",
      "Epoch 81/100\n",
      "1022/1022 [==============================] - 0s 60us/sample - loss: 0.2930 - accuracy: 0.8904 - val_loss: 0.2484 - val_accuracy: 0.9132\n",
      "Epoch 82/100\n",
      "1022/1022 [==============================] - 0s 60us/sample - loss: 0.2927 - accuracy: 0.8904 - val_loss: 0.2464 - val_accuracy: 0.9178\n",
      "Epoch 83/100\n",
      "1022/1022 [==============================] - 0s 60us/sample - loss: 0.2911 - accuracy: 0.8933 - val_loss: 0.2439 - val_accuracy: 0.9132\n",
      "Epoch 84/100\n",
      "1022/1022 [==============================] - 0s 60us/sample - loss: 0.2906 - accuracy: 0.8865 - val_loss: 0.2437 - val_accuracy: 0.9132\n",
      "Epoch 85/100\n",
      "1022/1022 [==============================] - 0s 60us/sample - loss: 0.2898 - accuracy: 0.8904 - val_loss: 0.2431 - val_accuracy: 0.9132\n",
      "Epoch 86/100\n",
      "1022/1022 [==============================] - 0s 60us/sample - loss: 0.2878 - accuracy: 0.8904 - val_loss: 0.2458 - val_accuracy: 0.9087\n",
      "Epoch 87/100\n",
      "1022/1022 [==============================] - 0s 61us/sample - loss: 0.2882 - accuracy: 0.8885 - val_loss: 0.2435 - val_accuracy: 0.9178\n",
      "Epoch 88/100\n",
      "1022/1022 [==============================] - 0s 60us/sample - loss: 0.2868 - accuracy: 0.8914 - val_loss: 0.2426 - val_accuracy: 0.9132\n",
      "Epoch 89/100\n",
      "1022/1022 [==============================] - 0s 60us/sample - loss: 0.2856 - accuracy: 0.8924 - val_loss: 0.2426 - val_accuracy: 0.9178\n",
      "Epoch 90/100\n",
      "1022/1022 [==============================] - 0s 61us/sample - loss: 0.2840 - accuracy: 0.8953 - val_loss: 0.2397 - val_accuracy: 0.9178\n",
      "Epoch 91/100\n",
      "1022/1022 [==============================] - 0s 63us/sample - loss: 0.2850 - accuracy: 0.8894 - val_loss: 0.2400 - val_accuracy: 0.9132\n",
      "Epoch 92/100\n",
      "1022/1022 [==============================] - 0s 60us/sample - loss: 0.2842 - accuracy: 0.8904 - val_loss: 0.2406 - val_accuracy: 0.9132\n",
      "Epoch 93/100\n",
      "1022/1022 [==============================] - 0s 59us/sample - loss: 0.2828 - accuracy: 0.8924 - val_loss: 0.2397 - val_accuracy: 0.9132\n",
      "Epoch 94/100\n",
      "1022/1022 [==============================] - 0s 60us/sample - loss: 0.2824 - accuracy: 0.8933 - val_loss: 0.2382 - val_accuracy: 0.9132\n",
      "Epoch 95/100\n",
      "1022/1022 [==============================] - 0s 61us/sample - loss: 0.2806 - accuracy: 0.8933 - val_loss: 0.2387 - val_accuracy: 0.9132\n",
      "Epoch 96/100\n",
      "1022/1022 [==============================] - 0s 62us/sample - loss: 0.2806 - accuracy: 0.8973 - val_loss: 0.2391 - val_accuracy: 0.9132\n",
      "Epoch 97/100\n",
      "1022/1022 [==============================] - 0s 61us/sample - loss: 0.2797 - accuracy: 0.8943 - val_loss: 0.2368 - val_accuracy: 0.9178\n",
      "Epoch 98/100\n",
      "1022/1022 [==============================] - 0s 61us/sample - loss: 0.2792 - accuracy: 0.8914 - val_loss: 0.2386 - val_accuracy: 0.9132\n",
      "Epoch 99/100\n",
      "1022/1022 [==============================] - 0s 60us/sample - loss: 0.2783 - accuracy: 0.8973 - val_loss: 0.2402 - val_accuracy: 0.9132\n",
      "Epoch 100/100\n",
      "1022/1022 [==============================] - 0s 59us/sample - loss: 0.2780 - accuracy: 0.8943 - val_loss: 0.2355 - val_accuracy: 0.9178\n"
     ]
    }
   ],
   "source": [
    "hist = model.fit(X_train, Y_train,\n",
    "          batch_size=32, epochs=100,\n",
    "          validation_data=(X_val, Y_val))"
   ]
  },
  {
   "cell_type": "code",
   "execution_count": 26,
   "id": "8c17f6b4",
   "metadata": {},
   "outputs": [
    {
     "name": "stdout",
     "output_type": "stream",
     "text": [
      "219/1 [==========================================================================================================================================================================================================================================================================================================================================================================================================================================================================================================================================================================================================================================================================================================================================================================================================================================================================================================================================================================================================================================================================================================================================================================================================================================================================================================================================================================================================================================================================================================================================================================================================================================================================================================================================================================================================================================================================================================================================================================================================================================================================================================================================================================================================================================================================================================================================================================================================================================================================================================================================================================================================================================================================================================================================================================================================================================================================================================================================================================================================================================================================================================================================================================================================================================================================================================================================================================================================================================================================================================================================================================================================================================================================================================================================================================================================================================================================================================================================================================================================================================================================================================================================================================================================================================================================================================================================================================================================================================================================================================================================================================================================================================================================================================================================================================================================================================================================================================================================================================================================================================================================================================================================================================================================================================================================================================================================================================================================================================================================================================================================================================================================================================================================================================================================================================================================================================================================================================================================================================================================================================================================================================================================================================================================================================================================================================================================================================================================================================================================================================================================================================================================================================================================================================================================================================================================================================] - 0s 26us/sample - loss: 0.3469 - accuracy: 0.8311\n"
     ]
    },
    {
     "data": {
      "text/plain": [
       "0.8310502"
      ]
     },
     "execution_count": 26,
     "metadata": {},
     "output_type": "execute_result"
    }
   ],
   "source": [
    "model.evaluate(X_test, Y_test)[1]"
   ]
  },
  {
   "cell_type": "code",
   "execution_count": 27,
   "id": "f73f8d9b",
   "metadata": {},
   "outputs": [
    {
     "data": {
      "image/png": "[encoded data removed]",
      "text/plain": [
       "<Figure size 432x288 with 1 Axes>"
      ]
     },
     "metadata": {
      "needs_background": "light"
     },
     "output_type": "display_data"
    }
   ],
   "source": [
    "# summarize history for loss\n",
    "import matplotlib.pyplot as plt\n",
    "plt.plot(hist.history['loss'])\n",
    "plt.plot(hist.history['val_loss'])\n",
    "plt.title('model loss')\n",
    "plt.ylabel('loss')\n",
    "plt.xlabel('epoch')\n",
    "plt.legend(['train', 'test'], loc='upper left')\n",
    "plt.show()"
   ]
  },
  {
   "cell_type": "code",
   "execution_count": null,
   "id": "ca82c2ca",
   "metadata": {},
   "outputs": [],
   "source": []
  }
 ],
 "metadata": {
  "kernelspec": {
   "display_name": "Python 3",
   "language": "python",
   "name": "python3"
  },
  "language_info": {
   "codemirror_mode": {
    "name": "ipython",
    "version": 3
   },
   "file_extension": ".py",
   "mimetype": "text/x-python",
   "name": "python",
   "nbconvert_exporter": "python",
   "pygments_lexer": "ipython3",
   "version": "3.7.10"
  }
 },
 "nbformat": 4,
 "nbformat_minor": 5
}
