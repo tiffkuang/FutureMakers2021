{
 "cells": [
  {
   "cell_type": "code",
   "execution_count": 17,
   "id": "7386fa84",
   "metadata": {
    "scrolled": true
   },
   "outputs": [
    {
     "name": "stdout",
     "output_type": "stream",
     "text": [
      "['Screen Shot 2021-02-14 at 12.12.41 PM.png', 'Screen Shot 2021-02-18 at 4.02.27 PM.png', 'Screen Shot 2021-06-09 at 1.14.23 AM.png', 'housing.csv', 'housepricedata.csv', 'Classification Practice.ipynb', 'Salary_Data.csv', 't10k-images-idx3-ubyte', 'Untitled1.ipynb', 'lab10_1.cpp', 'House Price Predictions .ipynb', '.DS_Store', 'Screen Shot 2021-05-12 at 12.40.06 PM.png', 'Screen Shot 2021-04-21 at 11.33.54 PM.png', 'Screen Shot 2021-02-17 at 5.29.41 PM.png', 'Screen Shot 2021-05-03 at 11.20.03 PM.png', 'archive', 'Screen Shot 2021-05-12 at 11.42.29 AM.png', 'Screen Shot 2021-05-12 at 12.56.31 PM.png', '.localized', 'Relocated Items.nosync', 'Screen Shot 2021-06-21 at 10.06.51 AM.png', 'Untitled.ipynb', 'Screen Shot 2021-04-24 at 1.07.52 PM.png', 'Screen Shot 2021-04-22 at 10.12.20 AM.png', 'Screen Shot 2021-06-29 at 10.56.46 PM.png', 'Screen Shot 2021-04-23 at 2.41.51 AM.png', 'Screen Shot 2021-02-18 at 4.02.19 PM.png', 't10k-labels-idx1-ubyte', 'Untitled2.ipynb', 'Screen Shot 2021-04-28 at 12.52.38 PM.png', 'Adar_anthony', 'Tiffany Kuang District Sunset Stickers Receipt.png', 'Screen Shot 2021-05-27 at 2.21.32 PM.png', 'Screen Shot 2021-07-13 at 9.54.29 AM.png', 'Screen Shot 2021-04-21 at 10.10.50 AM.png', 'Data.csv', 'Screen Shot 2021-04-11 at 1.38.19 AM.png', 'Screen Shot 2021-04-10 at 10.26.11 PM.png', 'train-images-idx3-ubyte', 'Screen Shot 2021-05-05 at 11.05.15 PM.png', 'Screen Shot 2021-02-14 at 12.12.33 PM.png', 'Screen Shot 2021-04-14 at 10.56.22 PM.png', 'Day 8 Action Item.ipynb', 'Screen Shot 2021-05-08 at 9.25.46 AM.png', 'Regression Practice.ipynb', 'Sarcasm_Headlines_Dataset_v2.json', 'Handwritten Digits CNN (lr 0.0001 graph).ipynb', 'Screen Shot 2021-05-19 at 6.21.16 AM.png', '.ipynb_checkpoints', 'Screen Shot 2021-04-19 at 1.20.25 PM.png', 'Screen Shot 2021-05-03 at 11.47.04 AM.png', 'Screen Shot 2021-06-28 at 11.41.28 PM.png', 'Day 9.ipynb', 'Screen Shot 2021-05-12 at 12.44.12 PM.png', 'Screen Shot 2021-06-16 at 10.21.15 PM.png', 'Screen Shot 2021-05-02 at 3.46.13 PM.png', 'train-images-idx3-ubyte.gz', 'yearlyCalendar.txt', 'lab9_3.cpp', 'train-labels-idx1-ubyte', 'Social_Network_Ads.csv', 'Screen Shot 2021-05-05 at 11.05.11 PM.png', 'Preprocessing Practice.ipynb', 'Screen Shot 2021-04-20 at 10.14.02 AM.png', 'lab9_1.cpp', 'Screen Shot 2021-02-12 at 10.30.08 AM.png']\n"
     ]
    }
   ],
   "source": [
    "import numpy as np # linear algebra\n",
    "import pandas as pd # data processing\n",
    "import seaborn as sns\n",
    "import matplotlib.pyplot as plt\n",
    "# import warnings\n",
    "import warnings\n",
    "# filter warnings\n",
    "warnings.filterwarnings('ignore')\n",
    "import tensorflow as tf \n",
    "import os\n",
    "print(os.listdir(\"../desktop\"))"
   ]
  },
  {
   "cell_type": "code",
   "execution_count": 18,
   "id": "ca6fd038",
   "metadata": {
    "scrolled": true
   },
   "outputs": [],
   "source": [
    "(x_train, y_train), (x_test, y_test) = tf.keras.datasets.mnist.load_data()"
   ]
  },
  {
   "cell_type": "code",
   "execution_count": 19,
   "id": "0320c661",
   "metadata": {},
   "outputs": [
    {
     "name": "stdout",
     "output_type": "stream",
     "text": [
      "x_train.shape:  (60000, 28, 28)\n",
      "x_test shape:  (10000, 28, 28)\n"
     ]
    }
   ],
   "source": [
    "# normalize the data\n",
    "x_train = x_train / 255.0\n",
    "x_test = x_test / 255.0\n",
    "print(\"x_train.shape: \", x_train.shape)\n",
    "print(\"x_test shape: \", x_test.shape)"
   ]
  },
  {
   "cell_type": "code",
   "execution_count": 20,
   "id": "70cddbeb",
   "metadata": {
    "scrolled": false
   },
   "outputs": [],
   "source": [
    "# label encoding\n",
    "from tensorflow.keras.utils import to_categorical # convert to one-hot-encoding\n",
    "y_train = to_categorical(y_train, num_classes = 10)"
   ]
  },
  {
   "cell_type": "code",
   "execution_count": 21,
   "id": "61f74fdf",
   "metadata": {},
   "outputs": [
    {
     "name": "stdout",
     "output_type": "stream",
     "text": [
      "x_train shape (48000, 28, 28)\n",
      "x_test shape (12000, 28, 28)\n",
      "y_train shape (48000, 10)\n",
      "y_test shape (12000, 10)\n"
     ]
    }
   ],
   "source": [
    "# split the train and validation set for the fitting\n",
    "from sklearn.model_selection import train_test_split\n",
    "x_train, x_test, y_train, y_test = train_test_split(x_train, y_train, test_size = 0.2, random_state = 0)\n",
    "print(\"x_train shape\", x_train.shape)\n",
    "print(\"x_test shape\", x_test.shape)\n",
    "print(\"y_train shape\", y_train.shape)\n",
    "print(\"y_test shape\", y_test.shape)"
   ]
  },
  {
   "cell_type": "code",
   "execution_count": 22,
   "id": "b4c7cfba",
   "metadata": {},
   "outputs": [
    {
     "data": {
      "image/png": "[encoded data removed]",
      "text/plain": [
       "<Figure size 432x288 with 1 Axes>"
      ]
     },
     "metadata": {
      "needs_background": "light"
     },
     "output_type": "display_data"
    }
   ],
   "source": [
    "plt.imshow(x_train[2][:,:],cmap='gray')\n",
    "plt.show()"
   ]
  },
  {
   "cell_type": "code",
   "execution_count": 23,
   "id": "593d6e44",
   "metadata": {},
   "outputs": [],
   "source": [
    "from tensorflow.keras.models import Sequential\n",
    "from tensorflow.keras.layers import Dense, Dropout, Flatten, Conv2D, MaxPool2D\n",
    "from tensorflow.keras.optimizers import Adam"
   ]
  },
  {
   "cell_type": "code",
   "execution_count": 24,
   "id": "969e0802",
   "metadata": {
    "scrolled": false
   },
   "outputs": [],
   "source": [
    "x_train = x_train.reshape(-1, 28, 28, 1)\n",
    "x_test = x_test.reshape(-1, 28, 28, 1)"
   ]
  },
  {
   "cell_type": "code",
   "execution_count": 25,
   "id": "e9d3f40a",
   "metadata": {},
   "outputs": [
    {
     "name": "stdout",
     "output_type": "stream",
     "text": [
      "x_train.shape (48000, 28, 28, 1)\n",
      "x_test.shape (12000, 28, 28, 1)\n"
     ]
    }
   ],
   "source": [
    "print(\"x_train.shape\", x_train.shape)\n",
    "print(\"x_test.shape\", x_test.shape)"
   ]
  },
  {
   "cell_type": "code",
   "execution_count": 26,
   "id": "3c0c3ecf",
   "metadata": {},
   "outputs": [],
   "source": [
    "model = Sequential()\n",
    "model.add(Conv2D(filters = 8, kernel_size = (3,3), activation = 'relu', input_shape = (28,28,1)))\n",
    "model.add(MaxPool2D(pool_size = (2,2)))\n",
    "model.add(Flatten())\n",
    "model.add(Dense(300, activation = 'relu'))\n",
    "model.add(Dropout(0.3))\n",
    "model.add(Dense(10, activation = 'softmax'))"
   ]
  },
  {
   "cell_type": "code",
   "execution_count": 27,
   "id": "2d0e41de",
   "metadata": {
    "scrolled": false
   },
   "outputs": [
    {
     "name": "stdout",
     "output_type": "stream",
     "text": [
      "Model: \"sequential_1\"\n",
      "_________________________________________________________________\n",
      "Layer (type)                 Output Shape              Param #   \n",
      "=================================================================\n",
      "conv2d_1 (Conv2D)            (None, 26, 26, 8)         80        \n",
      "_________________________________________________________________\n",
      "max_pooling2d_1 (MaxPooling2 (None, 13, 13, 8)         0         \n",
      "_________________________________________________________________\n",
      "flatten_1 (Flatten)          (None, 1352)              0         \n",
      "_________________________________________________________________\n",
      "dense_2 (Dense)              (None, 300)               405900    \n",
      "_________________________________________________________________\n",
      "dropout_1 (Dropout)          (None, 300)               0         \n",
      "_________________________________________________________________\n",
      "dense_3 (Dense)              (None, 10)                3010      \n",
      "=================================================================\n",
      "Total params: 408,990\n",
      "Trainable params: 408,990\n",
      "Non-trainable params: 0\n",
      "_________________________________________________________________\n"
     ]
    }
   ],
   "source": [
    "model.summary()"
   ]
  },
  {
   "cell_type": "code",
   "execution_count": 28,
   "id": "4b801179",
   "metadata": {},
   "outputs": [],
   "source": [
    "opd = tf.keras.optimizers.Adam(\n",
    "    learning_rate=0.1)"
   ]
  },
  {
   "cell_type": "code",
   "execution_count": 29,
   "id": "b17c4e4e",
   "metadata": {
    "scrolled": true
   },
   "outputs": [],
   "source": [
    "model.compile(optimizer = opd, loss = 'categorical_crossentropy', metrics=['accuracy'])"
   ]
  },
  {
   "cell_type": "code",
   "execution_count": 30,
   "id": "050bc476",
   "metadata": {
    "scrolled": true
   },
   "outputs": [
    {
     "name": "stdout",
     "output_type": "stream",
     "text": [
      "Train on 48000 samples, validate on 12000 samples\n",
      "Epoch 1/125\n",
      "48000/48000 [==============================] - 24s 490us/sample - loss: 2.3511 - accuracy: 0.1041 - val_loss: 2.3328 - val_accuracy: 0.0972\n",
      "Epoch 2/125\n",
      "48000/48000 [==============================] - 23s 479us/sample - loss: 2.3153 - accuracy: 0.1026 - val_loss: 2.3162 - val_accuracy: 0.1007\n",
      "Epoch 3/125\n",
      "48000/48000 [==============================] - 23s 476us/sample - loss: 2.3153 - accuracy: 0.1014 - val_loss: 2.3100 - val_accuracy: 0.1004\n",
      "Epoch 4/125\n",
      "48000/48000 [==============================] - 23s 476us/sample - loss: 2.3149 - accuracy: 0.1033 - val_loss: 2.3169 - val_accuracy: 0.1007\n",
      "Epoch 5/125\n",
      "48000/48000 [==============================] - 23s 479us/sample - loss: 2.3143 - accuracy: 0.1052 - val_loss: 2.3199 - val_accuracy: 0.1004\n",
      "Epoch 6/125\n",
      "48000/48000 [==============================] - 85s 2ms/sample - loss: 2.3143 - accuracy: 0.1042 - val_loss: 2.3180 - val_accuracy: 0.0993\n",
      "Epoch 7/125\n",
      "48000/48000 [==============================] - 162s 3ms/sample - loss: 2.3148 - accuracy: 0.1027 - val_loss: 2.3095 - val_accuracy: 0.1004\n",
      "Epoch 8/125\n",
      "48000/48000 [==============================] - 23s 479us/sample - loss: 2.3156 - accuracy: 0.1044 - val_loss: 2.3209 - val_accuracy: 0.1004\n",
      "Epoch 9/125\n",
      "48000/48000 [==============================] - 23s 477us/sample - loss: 2.3156 - accuracy: 0.1039 - val_loss: 2.3465 - val_accuracy: 0.1149\n",
      "Epoch 10/125\n",
      "48000/48000 [==============================] - 23s 478us/sample - loss: 2.3150 - accuracy: 0.1031 - val_loss: 2.3095 - val_accuracy: 0.1004\n",
      "Epoch 11/125\n",
      "48000/48000 [==============================] - 23s 476us/sample - loss: 2.3143 - accuracy: 0.1026 - val_loss: 2.3107 - val_accuracy: 0.0972\n",
      "Epoch 12/125\n",
      "48000/48000 [==============================] - 23s 484us/sample - loss: 2.3142 - accuracy: 0.1053 - val_loss: 2.3173 - val_accuracy: 0.1023\n",
      "Epoch 13/125\n",
      "48000/48000 [==============================] - 51s 1ms/sample - loss: 2.3151 - accuracy: 0.1022 - val_loss: 2.3129 - val_accuracy: 0.0961\n",
      "Epoch 14/125\n",
      "48000/48000 [==============================] - 23s 483us/sample - loss: 2.3142 - accuracy: 0.1049 - val_loss: 2.3187 - val_accuracy: 0.0972\n",
      "Epoch 15/125\n",
      "48000/48000 [==============================] - 23s 481us/sample - loss: 2.3156 - accuracy: 0.1023 - val_loss: 2.3175 - val_accuracy: 0.1023\n",
      "Epoch 16/125\n",
      "48000/48000 [==============================] - 23s 488us/sample - loss: 2.3142 - accuracy: 0.1036 - val_loss: 2.3118 - val_accuracy: 0.1004\n",
      "Epoch 17/125\n",
      "48000/48000 [==============================] - 23s 481us/sample - loss: 2.3150 - accuracy: 0.1036 - val_loss: 2.3164 - val_accuracy: 0.0993\n",
      "Epoch 18/125\n",
      "48000/48000 [==============================] - 23s 484us/sample - loss: 2.3147 - accuracy: 0.1024 - val_loss: 2.3095 - val_accuracy: 0.1023\n",
      "Epoch 19/125\n",
      "48000/48000 [==============================] - 23s 481us/sample - loss: 2.3164 - accuracy: 0.1016 - val_loss: 2.3179 - val_accuracy: 0.0961\n",
      "Epoch 20/125\n",
      "48000/48000 [==============================] - 23s 480us/sample - loss: 2.3149 - accuracy: 0.1035 - val_loss: 2.3322 - val_accuracy: 0.1004\n",
      "Epoch 21/125\n",
      "48000/48000 [==============================] - 23s 482us/sample - loss: 2.3158 - accuracy: 0.1016 - val_loss: 2.3081 - val_accuracy: 0.1007\n",
      "Epoch 22/125\n",
      "48000/48000 [==============================] - 23s 479us/sample - loss: 2.3151 - accuracy: 0.1015 - val_loss: 2.3199 - val_accuracy: 0.0961\n",
      "Epoch 23/125\n",
      "48000/48000 [==============================] - 23s 482us/sample - loss: 2.3147 - accuracy: 0.1053 - val_loss: 2.3108 - val_accuracy: 0.1023\n",
      "Epoch 24/125\n",
      "48000/48000 [==============================] - 23s 481us/sample - loss: 2.3151 - accuracy: 0.1044 - val_loss: 2.3150 - val_accuracy: 0.1023\n",
      "Epoch 25/125\n",
      "48000/48000 [==============================] - 23s 483us/sample - loss: 2.3148 - accuracy: 0.1037 - val_loss: 2.3160 - val_accuracy: 0.1004\n",
      "Epoch 26/125\n",
      "48000/48000 [==============================] - 23s 481us/sample - loss: 2.3153 - accuracy: 0.1029 - val_loss: 2.3092 - val_accuracy: 0.0992\n",
      "Epoch 27/125\n",
      "48000/48000 [==============================] - 23s 481us/sample - loss: 2.3144 - accuracy: 0.1047 - val_loss: 2.3030 - val_accuracy: 0.1023\n",
      "Epoch 28/125\n",
      "48000/48000 [==============================] - 23s 479us/sample - loss: 2.3146 - accuracy: 0.1027 - val_loss: 2.3054 - val_accuracy: 0.0896\n",
      "Epoch 29/125\n",
      "48000/48000 [==============================] - 24s 502us/sample - loss: 2.3142 - accuracy: 0.1039 - val_loss: 2.3174 - val_accuracy: 0.1149\n",
      "Epoch 30/125\n",
      "48000/48000 [==============================] - 23s 482us/sample - loss: 2.3153 - accuracy: 0.1052 - val_loss: 2.3121 - val_accuracy: 0.1004\n",
      "Epoch 31/125\n",
      "48000/48000 [==============================] - 23s 482us/sample - loss: 2.3151 - accuracy: 0.1016 - val_loss: 2.3102 - val_accuracy: 0.0972\n",
      "Epoch 32/125\n",
      "48000/48000 [==============================] - 23s 481us/sample - loss: 2.3140 - accuracy: 0.1040 - val_loss: 2.3130 - val_accuracy: 0.1023\n",
      "Epoch 33/125\n",
      "48000/48000 [==============================] - 23s 485us/sample - loss: 2.3145 - accuracy: 0.1060 - val_loss: 2.3217 - val_accuracy: 0.0961\n",
      "Epoch 34/125\n",
      "48000/48000 [==============================] - 23s 481us/sample - loss: 2.3156 - accuracy: 0.1037 - val_loss: 2.3150 - val_accuracy: 0.0992\n",
      "Epoch 35/125\n",
      "48000/48000 [==============================] - 23s 481us/sample - loss: 2.3150 - accuracy: 0.1018 - val_loss: 2.3055 - val_accuracy: 0.1004\n",
      "Epoch 36/125\n",
      "48000/48000 [==============================] - 23s 482us/sample - loss: 2.3145 - accuracy: 0.1017 - val_loss: 2.3205 - val_accuracy: 0.1149\n",
      "Epoch 37/125\n",
      "48000/48000 [==============================] - 23s 481us/sample - loss: 2.3155 - accuracy: 0.1028 - val_loss: 2.3195 - val_accuracy: 0.1023\n",
      "Epoch 38/125\n",
      "48000/48000 [==============================] - 23s 483us/sample - loss: 2.3162 - accuracy: 0.1021 - val_loss: 2.3354 - val_accuracy: 0.1023\n",
      "Epoch 39/125\n",
      "48000/48000 [==============================] - 23s 482us/sample - loss: 2.3139 - accuracy: 0.1038 - val_loss: 2.3170 - val_accuracy: 0.1007\n",
      "Epoch 40/125\n",
      "48000/48000 [==============================] - 23s 481us/sample - loss: 2.3154 - accuracy: 0.1044 - val_loss: 2.3188 - val_accuracy: 0.1004\n",
      "Epoch 41/125\n",
      "48000/48000 [==============================] - 23s 483us/sample - loss: 2.3147 - accuracy: 0.1016 - val_loss: 2.3099 - val_accuracy: 0.1007\n",
      "Epoch 42/125\n",
      "48000/48000 [==============================] - 23s 486us/sample - loss: 2.3147 - accuracy: 0.1042 - val_loss: 2.3079 - val_accuracy: 0.1007\n",
      "Epoch 43/125\n",
      "48000/48000 [==============================] - 23s 483us/sample - loss: 2.3147 - accuracy: 0.1046 - val_loss: 2.3182 - val_accuracy: 0.1007\n",
      "Epoch 44/125\n",
      "48000/48000 [==============================] - 23s 480us/sample - loss: 2.3149 - accuracy: 0.1032 - val_loss: 2.3103 - val_accuracy: 0.0961\n",
      "Epoch 45/125\n",
      "48000/48000 [==============================] - 23s 482us/sample - loss: 2.3147 - accuracy: 0.1029 - val_loss: 2.3175 - val_accuracy: 0.1004\n",
      "Epoch 46/125\n",
      "48000/48000 [==============================] - 23s 482us/sample - loss: 2.3146 - accuracy: 0.1056 - val_loss: 2.3095 - val_accuracy: 0.1023\n",
      "Epoch 47/125\n",
      "48000/48000 [==============================] - 23s 482us/sample - loss: 2.3154 - accuracy: 0.1044 - val_loss: 2.3067 - val_accuracy: 0.1149\n",
      "Epoch 48/125\n",
      "48000/48000 [==============================] - 23s 484us/sample - loss: 2.3145 - accuracy: 0.1058 - val_loss: 2.3162 - val_accuracy: 0.1023\n",
      "Epoch 49/125\n",
      "48000/48000 [==============================] - 29s 602us/sample - loss: 2.3154 - accuracy: 0.1022 - val_loss: 2.3154 - val_accuracy: 0.0993\n",
      "Epoch 50/125\n",
      "48000/48000 [==============================] - 23s 483us/sample - loss: 2.3138 - accuracy: 0.1026 - val_loss: 2.3133 - val_accuracy: 0.0961\n",
      "Epoch 51/125\n",
      "48000/48000 [==============================] - 23s 482us/sample - loss: 2.3151 - accuracy: 0.1030 - val_loss: 2.3068 - val_accuracy: 0.1023\n",
      "Epoch 52/125\n",
      "48000/48000 [==============================] - 23s 485us/sample - loss: 2.3144 - accuracy: 0.1030 - val_loss: 2.3142 - val_accuracy: 0.1007\n",
      "Epoch 53/125\n",
      "48000/48000 [==============================] - 23s 481us/sample - loss: 2.3147 - accuracy: 0.1019 - val_loss: 2.3329 - val_accuracy: 0.1007\n",
      "Epoch 54/125\n",
      "48000/48000 [==============================] - 23s 484us/sample - loss: 2.3153 - accuracy: 0.1041 - val_loss: 2.3181 - val_accuracy: 0.1023\n",
      "Epoch 55/125\n",
      "48000/48000 [==============================] - 23s 480us/sample - loss: 2.3147 - accuracy: 0.1036 - val_loss: 2.3157 - val_accuracy: 0.0961\n",
      "Epoch 56/125\n",
      "48000/48000 [==============================] - 23s 485us/sample - loss: 2.3149 - accuracy: 0.1028 - val_loss: 2.3052 - val_accuracy: 0.1023\n",
      "Epoch 57/125\n",
      "48000/48000 [==============================] - 23s 480us/sample - loss: 2.3145 - accuracy: 0.1047 - val_loss: 2.3174 - val_accuracy: 0.1004\n",
      "Epoch 58/125\n",
      "48000/48000 [==============================] - 23s 479us/sample - loss: 2.3145 - accuracy: 0.1028 - val_loss: 2.3140 - val_accuracy: 0.0896\n",
      "Epoch 59/125\n",
      "48000/48000 [==============================] - 23s 481us/sample - loss: 2.3147 - accuracy: 0.1044 - val_loss: 2.3180 - val_accuracy: 0.0993\n",
      "Epoch 60/125\n",
      "48000/48000 [==============================] - 23s 476us/sample - loss: 2.3147 - accuracy: 0.1040 - val_loss: 2.3242 - val_accuracy: 0.0972\n",
      "Epoch 61/125\n",
      "48000/48000 [==============================] - 23s 477us/sample - loss: 2.3151 - accuracy: 0.1032 - val_loss: 2.3116 - val_accuracy: 0.0972\n",
      "Epoch 62/125\n",
      "48000/48000 [==============================] - 23s 478us/sample - loss: 2.3135 - accuracy: 0.1036 - val_loss: 2.3109 - val_accuracy: 0.0972\n",
      "Epoch 63/125\n",
      "48000/48000 [==============================] - 23s 478us/sample - loss: 2.3152 - accuracy: 0.1020 - val_loss: 2.3167 - val_accuracy: 0.1149\n",
      "Epoch 64/125\n",
      "48000/48000 [==============================] - 23s 477us/sample - loss: 2.3152 - accuracy: 0.1006 - val_loss: 2.3155 - val_accuracy: 0.1149\n",
      "Epoch 65/125\n",
      "48000/48000 [==============================] - 23s 481us/sample - loss: 2.3150 - accuracy: 0.1016 - val_loss: 2.3110 - val_accuracy: 0.0993\n",
      "Epoch 66/125\n",
      "48000/48000 [==============================] - 23s 479us/sample - loss: 2.3141 - accuracy: 0.1015 - val_loss: 2.3077 - val_accuracy: 0.1004\n",
      "Epoch 67/125\n",
      "48000/48000 [==============================] - 23s 479us/sample - loss: 2.3155 - accuracy: 0.1034 - val_loss: 2.3336 - val_accuracy: 0.0992\n",
      "Epoch 68/125\n",
      "48000/48000 [==============================] - 23s 478us/sample - loss: 2.3154 - accuracy: 0.1018 - val_loss: 2.3079 - val_accuracy: 0.1149\n",
      "Epoch 69/125\n",
      "48000/48000 [==============================] - 23s 479us/sample - loss: 2.3139 - accuracy: 0.1037 - val_loss: 2.3113 - val_accuracy: 0.1149\n",
      "Epoch 70/125\n",
      "48000/48000 [==============================] - 23s 479us/sample - loss: 2.3151 - accuracy: 0.1023 - val_loss: 2.3144 - val_accuracy: 0.1004\n",
      "Epoch 71/125\n",
      "48000/48000 [==============================] - 23s 481us/sample - loss: 2.3162 - accuracy: 0.1033 - val_loss: 2.3075 - val_accuracy: 0.1004\n",
      "Epoch 72/125\n",
      "48000/48000 [==============================] - 23s 480us/sample - loss: 2.3144 - accuracy: 0.1016 - val_loss: 2.3217 - val_accuracy: 0.0993\n",
      "Epoch 73/125\n",
      "48000/48000 [==============================] - 23s 481us/sample - loss: 2.3148 - accuracy: 0.1014 - val_loss: 2.3085 - val_accuracy: 0.1007\n",
      "Epoch 74/125\n",
      "48000/48000 [==============================] - 23s 480us/sample - loss: 2.3151 - accuracy: 0.1016 - val_loss: 2.3153 - val_accuracy: 0.1023\n",
      "Epoch 75/125\n",
      "48000/48000 [==============================] - 23s 482us/sample - loss: 2.3148 - accuracy: 0.1051 - val_loss: 2.3091 - val_accuracy: 0.1007\n",
      "Epoch 76/125\n",
      "48000/48000 [==============================] - 23s 481us/sample - loss: 2.3154 - accuracy: 0.1016 - val_loss: 2.3172 - val_accuracy: 0.1149\n",
      "Epoch 77/125\n",
      "48000/48000 [==============================] - 23s 479us/sample - loss: 2.3148 - accuracy: 0.1040 - val_loss: 2.3107 - val_accuracy: 0.1149\n",
      "Epoch 78/125\n",
      "48000/48000 [==============================] - 23s 481us/sample - loss: 2.3145 - accuracy: 0.1049 - val_loss: 2.3136 - val_accuracy: 0.0961\n",
      "Epoch 79/125\n",
      "48000/48000 [==============================] - 23s 481us/sample - loss: 2.3140 - accuracy: 0.1026 - val_loss: 2.3121 - val_accuracy: 0.1007\n",
      "Epoch 80/125\n",
      "48000/48000 [==============================] - 24s 497us/sample - loss: 2.3155 - accuracy: 0.1011 - val_loss: 2.3268 - val_accuracy: 0.1023\n",
      "Epoch 81/125\n",
      "48000/48000 [==============================] - 23s 482us/sample - loss: 2.3145 - accuracy: 0.1049 - val_loss: 2.3204 - val_accuracy: 0.0993\n",
      "Epoch 82/125\n",
      "48000/48000 [==============================] - 24s 493us/sample - loss: 2.3151 - accuracy: 0.1027 - val_loss: 2.3167 - val_accuracy: 0.1149\n",
      "Epoch 83/125\n",
      "48000/48000 [==============================] - 24s 504us/sample - loss: 2.3151 - accuracy: 0.1017 - val_loss: 2.3089 - val_accuracy: 0.0972\n",
      "Epoch 84/125\n",
      "48000/48000 [==============================] - 24s 500us/sample - loss: 2.3153 - accuracy: 0.1019 - val_loss: 2.3224 - val_accuracy: 0.0993\n",
      "Epoch 85/125\n",
      "48000/48000 [==============================] - 24s 496us/sample - loss: 2.3140 - accuracy: 0.1040 - val_loss: 2.3105 - val_accuracy: 0.1149\n",
      "Epoch 86/125\n",
      "48000/48000 [==============================] - 23s 490us/sample - loss: 2.3154 - accuracy: 0.1032 - val_loss: 2.3175 - val_accuracy: 0.0972\n",
      "Epoch 87/125\n",
      "48000/48000 [==============================] - 23s 486us/sample - loss: 2.3143 - accuracy: 0.1032 - val_loss: 2.3205 - val_accuracy: 0.1007\n",
      "Epoch 88/125\n",
      "48000/48000 [==============================] - 23s 479us/sample - loss: 2.3148 - accuracy: 0.1043 - val_loss: 2.3138 - val_accuracy: 0.1149\n",
      "Epoch 89/125\n",
      "48000/48000 [==============================] - 23s 483us/sample - loss: 2.3151 - accuracy: 0.1039 - val_loss: 2.3062 - val_accuracy: 0.1007\n",
      "Epoch 90/125\n",
      "48000/48000 [==============================] - 23s 482us/sample - loss: 2.3149 - accuracy: 0.1023 - val_loss: 2.3159 - val_accuracy: 0.1004\n",
      "Epoch 91/125\n",
      "48000/48000 [==============================] - 23s 484us/sample - loss: 2.3151 - accuracy: 0.1026 - val_loss: 2.3320 - val_accuracy: 0.1007\n",
      "Epoch 92/125\n",
      "48000/48000 [==============================] - 23s 485us/sample - loss: 2.3157 - accuracy: 0.1006 - val_loss: 2.3099 - val_accuracy: 0.0993\n",
      "Epoch 93/125\n",
      "48000/48000 [==============================] - 23s 480us/sample - loss: 2.3148 - accuracy: 0.1023 - val_loss: 2.3239 - val_accuracy: 0.1007\n",
      "Epoch 94/125\n",
      "48000/48000 [==============================] - 23s 484us/sample - loss: 2.3149 - accuracy: 0.1029 - val_loss: 2.3239 - val_accuracy: 0.1023\n",
      "Epoch 95/125\n",
      "48000/48000 [==============================] - 23s 485us/sample - loss: 2.3143 - accuracy: 0.1020 - val_loss: 2.3203 - val_accuracy: 0.0992\n",
      "Epoch 96/125\n",
      "48000/48000 [==============================] - 24s 499us/sample - loss: 2.3139 - accuracy: 0.1020 - val_loss: 2.3132 - val_accuracy: 0.0993\n",
      "Epoch 97/125\n",
      "48000/48000 [==============================] - 23s 489us/sample - loss: 2.3150 - accuracy: 0.1018 - val_loss: 2.3149 - val_accuracy: 0.1149\n",
      "Epoch 98/125\n",
      "48000/48000 [==============================] - 23s 482us/sample - loss: 2.3153 - accuracy: 0.1017 - val_loss: 2.3114 - val_accuracy: 0.1149\n",
      "Epoch 99/125\n",
      "48000/48000 [==============================] - 23s 488us/sample - loss: 2.3162 - accuracy: 0.1009 - val_loss: 2.3176 - val_accuracy: 0.1004\n",
      "Epoch 100/125\n",
      "48000/48000 [==============================] - 23s 486us/sample - loss: 2.3139 - accuracy: 0.1041 - val_loss: 2.3181 - val_accuracy: 0.1023\n",
      "Epoch 101/125\n",
      "48000/48000 [==============================] - 23s 479us/sample - loss: 2.3157 - accuracy: 0.1024 - val_loss: 2.3183 - val_accuracy: 0.1149\n",
      "Epoch 102/125\n",
      "48000/48000 [==============================] - 23s 483us/sample - loss: 2.3139 - accuracy: 0.1030 - val_loss: 2.3115 - val_accuracy: 0.1007\n",
      "Epoch 103/125\n",
      "48000/48000 [==============================] - 23s 482us/sample - loss: 2.3148 - accuracy: 0.1015 - val_loss: 2.3055 - val_accuracy: 0.1004\n",
      "Epoch 104/125\n",
      "48000/48000 [==============================] - 24s 496us/sample - loss: 2.3145 - accuracy: 0.1027 - val_loss: 2.3105 - val_accuracy: 0.1004\n",
      "Epoch 105/125\n",
      "48000/48000 [==============================] - 24s 493us/sample - loss: 2.3148 - accuracy: 0.1015 - val_loss: 2.3232 - val_accuracy: 0.1023\n",
      "Epoch 106/125\n",
      "48000/48000 [==============================] - 24s 492us/sample - loss: 2.3151 - accuracy: 0.1021 - val_loss: 2.3122 - val_accuracy: 0.0972\n",
      "Epoch 107/125\n",
      "48000/48000 [==============================] - 24s 498us/sample - loss: 2.3144 - accuracy: 0.1049 - val_loss: 2.3042 - val_accuracy: 0.1149\n",
      "Epoch 108/125\n",
      "48000/48000 [==============================] - 24s 499us/sample - loss: 2.3145 - accuracy: 0.1020 - val_loss: 2.3236 - val_accuracy: 0.1007\n",
      "Epoch 109/125\n",
      "48000/48000 [==============================] - 24s 501us/sample - loss: 2.3148 - accuracy: 0.1017 - val_loss: 2.3176 - val_accuracy: 0.1023\n",
      "Epoch 110/125\n",
      "48000/48000 [==============================] - 24s 501us/sample - loss: 2.3159 - accuracy: 0.1036 - val_loss: 2.3261 - val_accuracy: 0.1149\n",
      "Epoch 111/125\n",
      "48000/48000 [==============================] - 24s 499us/sample - loss: 2.3155 - accuracy: 0.1029 - val_loss: 2.3118 - val_accuracy: 0.1004\n",
      "Epoch 112/125\n",
      "48000/48000 [==============================] - 24s 500us/sample - loss: 2.3145 - accuracy: 0.1005 - val_loss: 2.3134 - val_accuracy: 0.0972\n",
      "Epoch 113/125\n",
      "48000/48000 [==============================] - 24s 501us/sample - loss: 2.3156 - accuracy: 0.1039 - val_loss: 2.3166 - val_accuracy: 0.1149\n",
      "Epoch 114/125\n",
      "48000/48000 [==============================] - 24s 501us/sample - loss: 2.3139 - accuracy: 0.1058 - val_loss: 2.3201 - val_accuracy: 0.1149\n",
      "Epoch 115/125\n",
      "48000/48000 [==============================] - 24s 500us/sample - loss: 2.3152 - accuracy: 0.1015 - val_loss: 2.3089 - val_accuracy: 0.1004\n",
      "Epoch 116/125\n",
      "48000/48000 [==============================] - 24s 502us/sample - loss: 2.3153 - accuracy: 0.1046 - val_loss: 2.3305 - val_accuracy: 0.1004\n",
      "Epoch 117/125\n",
      "48000/48000 [==============================] - 24s 503us/sample - loss: 2.3156 - accuracy: 0.1016 - val_loss: 2.3056 - val_accuracy: 0.0972\n",
      "Epoch 118/125\n",
      "48000/48000 [==============================] - 24s 499us/sample - loss: 2.3156 - accuracy: 0.1037 - val_loss: 2.3088 - val_accuracy: 0.1004\n",
      "Epoch 119/125\n",
      "48000/48000 [==============================] - 24s 506us/sample - loss: 2.3157 - accuracy: 0.1034 - val_loss: 2.3105 - val_accuracy: 0.1023\n",
      "Epoch 120/125\n",
      "48000/48000 [==============================] - 24s 492us/sample - loss: 2.3158 - accuracy: 0.0995 - val_loss: 2.3167 - val_accuracy: 0.0961\n",
      "Epoch 121/125\n",
      "48000/48000 [==============================] - 24s 494us/sample - loss: 2.3157 - accuracy: 0.1029 - val_loss: 2.3047 - val_accuracy: 0.0961\n",
      "Epoch 122/125\n",
      "48000/48000 [==============================] - 24s 495us/sample - loss: 2.3151 - accuracy: 0.1028 - val_loss: 2.3173 - val_accuracy: 0.1007\n",
      "Epoch 123/125\n",
      "48000/48000 [==============================] - 24s 505us/sample - loss: 2.3143 - accuracy: 0.1044 - val_loss: 2.3077 - val_accuracy: 0.1023\n",
      "Epoch 124/125\n",
      "48000/48000 [==============================] - 24s 501us/sample - loss: 2.3146 - accuracy: 0.1041 - val_loss: 2.3174 - val_accuracy: 0.1023\n",
      "Epoch 125/125\n",
      "48000/48000 [==============================] - 24s 501us/sample - loss: 2.3149 - accuracy: 0.1017 - val_loss: 2.3168 - val_accuracy: 0.1149\n"
     ]
    }
   ],
   "source": [
    "hist = model.fit(x_train, y_train, batch_size = 28, epochs = 125, validation_data=(x_test, y_test))"
   ]
  },
  {
   "cell_type": "code",
   "execution_count": 31,
   "id": "e247e35b",
   "metadata": {},
   "outputs": [
    {
     "data": {
      "image/png": "[encoded data removed]",
      "text/plain": [
       "<Figure size 432x288 with 1 Axes>"
      ]
     },
     "metadata": {
      "needs_background": "light"
     },
     "output_type": "display_data"
    }
   ],
   "source": [
    "# summarize history for loss\n",
    "import matplotlib.pyplot as plt\n",
    "plt.plot(hist.history['loss'])\n",
    "plt.plot(hist.history['val_loss'])\n",
    "plt.title('model loss')\n",
    "plt.ylabel('loss')\n",
    "plt.xlabel('epoch')\n",
    "plt.legend(['train', 'test'], loc='upper left')\n",
    "plt.show()"
   ]
  },
  {
   "cell_type": "code",
   "execution_count": null,
   "id": "2d252530",
   "metadata": {},
   "outputs": [],
   "source": []
  }
 ],
 "metadata": {
  "kernelspec": {
   "display_name": "Python 3",
   "language": "python",
   "name": "python3"
  },
  "language_info": {
   "codemirror_mode": {
    "name": "ipython",
    "version": 3
   },
   "file_extension": ".py",
   "mimetype": "text/x-python",
   "name": "python",
   "nbconvert_exporter": "python",
   "pygments_lexer": "ipython3",
   "version": "3.7.10"
  }
 },
 "nbformat": 4,
 "nbformat_minor": 5
}
