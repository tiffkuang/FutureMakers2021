{
 "cells": [
  {
   "cell_type": "code",
   "execution_count": 1,
   "id": "96913cb3",
   "metadata": {
    "scrolled": true
   },
   "outputs": [
    {
     "name": "stdout",
     "output_type": "stream",
     "text": [
      "['Screen Shot 2021-02-14 at 12.12.41 PM.png', 'Screen Shot 2021-02-18 at 4.02.27 PM.png', 'Screen Shot 2021-06-09 at 1.14.23 AM.png', 'housing.csv', 'housepricedata.csv', 'Classification Practice.ipynb', 'Salary_Data.csv', 't10k-images-idx3-ubyte', 'Untitled1.ipynb', 'lab10_1.cpp', 'House Price Predictions .ipynb', '.DS_Store', 'Screen Shot 2021-05-12 at 12.40.06 PM.png', 'Screen Shot 2021-04-21 at 11.33.54 PM.png', 'Screen Shot 2021-02-17 at 5.29.41 PM.png', 'Screen Shot 2021-05-03 at 11.20.03 PM.png', 'archive', 'Screen Shot 2021-05-12 at 11.42.29 AM.png', 'Screen Shot 2021-05-12 at 12.56.31 PM.png', '.localized', 'Relocated Items.nosync', 'Screen Shot 2021-06-21 at 10.06.51 AM.png', 'Untitled.ipynb', 'Screen Shot 2021-04-24 at 1.07.52 PM.png', 'Screen Shot 2021-04-22 at 10.12.20 AM.png', 'Screen Shot 2021-06-29 at 10.56.46 PM.png', 'Screen Shot 2021-04-23 at 2.41.51 AM.png', 'Screen Shot 2021-02-18 at 4.02.19 PM.png', 't10k-labels-idx1-ubyte', 'Untitled2.ipynb', 'Screen Shot 2021-04-28 at 12.52.38 PM.png', 'Adar_anthony', 'Tiffany Kuang District Sunset Stickers Receipt.png', 'Screen Shot 2021-05-27 at 2.21.32 PM.png', 'Screen Shot 2021-07-13 at 9.54.29 AM.png', 'Screen Shot 2021-04-21 at 10.10.50 AM.png', 'Data.csv', 'Screen Shot 2021-04-11 at 1.38.19 AM.png', 'Screen Shot 2021-04-10 at 10.26.11 PM.png', 'train-images-idx3-ubyte', 'Screen Shot 2021-05-05 at 11.05.15 PM.png', 'Handwritten Digits CNN.ipynb', 'Screen Shot 2021-02-14 at 12.12.33 PM.png', 'Screen Shot 2021-04-14 at 10.56.22 PM.png', 'Day 8 Action Item.ipynb', 'Screen Shot 2021-05-08 at 9.25.46 AM.png', 'Regression Practice.ipynb', 'Sarcasm_Headlines_Dataset_v2.json', 'Screen Shot 2021-05-19 at 6.21.16 AM.png', '.ipynb_checkpoints', 'Screen Shot 2021-04-19 at 1.20.25 PM.png', 'Screen Shot 2021-05-03 at 11.47.04 AM.png', 'Screen Shot 2021-06-28 at 11.41.28 PM.png', 'Screen Shot 2021-05-12 at 12.44.12 PM.png', 'Screen Shot 2021-06-16 at 10.21.15 PM.png', 'Screen Shot 2021-05-02 at 3.46.13 PM.png', 'train-images-idx3-ubyte.gz', 'yearlyCalendar.txt', 'lab9_3.cpp', 'train-labels-idx1-ubyte', 'Social_Network_Ads.csv', 'Screen Shot 2021-05-05 at 11.05.11 PM.png', 'Preprocessing Practice.ipynb', 'Screen Shot 2021-04-20 at 10.14.02 AM.png', 'lab9_1.cpp', 'Screen Shot 2021-02-12 at 10.30.08 AM.png']\n"
     ]
    }
   ],
   "source": [
    "import numpy as np # linear algebra\n",
    "import pandas as pd # data processing\n",
    "import seaborn as sns\n",
    "import matplotlib.pyplot as plt\n",
    "# import warnings\n",
    "import warnings\n",
    "# filter warnings\n",
    "warnings.filterwarnings('ignore')\n",
    "import tensorflow as tf \n",
    "import os\n",
    "print(os.listdir(\"../desktop\"))"
   ]
  },
  {
   "cell_type": "code",
   "execution_count": 2,
   "id": "d59de9f3",
   "metadata": {
    "scrolled": true
   },
   "outputs": [],
   "source": [
    "(x_train, y_train), (x_test, y_test) = tf.keras.datasets.mnist.load_data()"
   ]
  },
  {
   "cell_type": "code",
   "execution_count": 3,
   "id": "b1cf2b0c",
   "metadata": {},
   "outputs": [
    {
     "name": "stdout",
     "output_type": "stream",
     "text": [
      "x_train.shape:  (60000, 28, 28)\n",
      "x_test shape:  (10000, 28, 28)\n"
     ]
    }
   ],
   "source": [
    "# normalize the data\n",
    "x_train = x_train / 255.0\n",
    "x_test = x_test / 255.0\n",
    "print(\"x_train.shape: \", x_train.shape)\n",
    "print(\"x_test shape: \", x_test.shape)"
   ]
  },
  {
   "cell_type": "code",
   "execution_count": 4,
   "id": "2094ba2f",
   "metadata": {
    "scrolled": false
   },
   "outputs": [],
   "source": [
    "# label encoding\n",
    "from tensorflow.keras.utils import to_categorical # convert to one-hot-encoding\n",
    "y_train = to_categorical(y_train, num_classes = 10)"
   ]
  },
  {
   "cell_type": "code",
   "execution_count": 5,
   "id": "fb520b92",
   "metadata": {},
   "outputs": [
    {
     "name": "stdout",
     "output_type": "stream",
     "text": [
      "x_train shape (48000, 28, 28)\n",
      "x_test shape (12000, 28, 28)\n",
      "y_train shape (48000, 10)\n",
      "y_test shape (12000, 10)\n"
     ]
    }
   ],
   "source": [
    "# split the train and validation set for the fitting\n",
    "from sklearn.model_selection import train_test_split\n",
    "x_train, x_test, y_train, y_test = train_test_split(x_train, y_train, test_size = 0.2, random_state = 0)\n",
    "print(\"x_train shape\", x_train.shape)\n",
    "print(\"x_test shape\", x_test.shape)\n",
    "print(\"y_train shape\", y_train.shape)\n",
    "print(\"y_test shape\", y_test.shape)"
   ]
  },
  {
   "cell_type": "code",
   "execution_count": 6,
   "id": "945d6235",
   "metadata": {},
   "outputs": [
    {
     "data": {
      "image/png": "[encoded data removed]",
      "text/plain": [
       "<Figure size 432x288 with 1 Axes>"
      ]
     },
     "metadata": {
      "needs_background": "light"
     },
     "output_type": "display_data"
    }
   ],
   "source": [
    "plt.imshow(x_train[2][:,:],cmap='gray')\n",
    "plt.show()"
   ]
  },
  {
   "cell_type": "code",
   "execution_count": 7,
   "id": "2378955b",
   "metadata": {},
   "outputs": [],
   "source": [
    "from tensorflow.keras.models import Sequential\n",
    "from tensorflow.keras.layers import Dense, Dropout, Flatten, Conv2D, MaxPool2D\n",
    "from tensorflow.keras.optimizers import Adam"
   ]
  },
  {
   "cell_type": "code",
   "execution_count": 8,
   "id": "e2cc259d",
   "metadata": {
    "scrolled": false
   },
   "outputs": [],
   "source": [
    "x_train = x_train.reshape(-1, 28, 28, 1)\n",
    "x_test = x_test.reshape(-1, 28, 28, 1)"
   ]
  },
  {
   "cell_type": "code",
   "execution_count": 9,
   "id": "08f5aaa8",
   "metadata": {},
   "outputs": [
    {
     "name": "stdout",
     "output_type": "stream",
     "text": [
      "x_train.shape (48000, 28, 28, 1)\n",
      "x_test.shape (12000, 28, 28, 1)\n"
     ]
    }
   ],
   "source": [
    "print(\"x_train.shape\", x_train.shape)\n",
    "print(\"x_test.shape\", x_test.shape)"
   ]
  },
  {
   "cell_type": "code",
   "execution_count": 10,
   "id": "79c0b481",
   "metadata": {},
   "outputs": [],
   "source": [
    "model = Sequential()\n",
    "model.add(Conv2D(filters = 8, kernel_size = (3,3), activation = 'relu', input_shape = (28,28,1)))\n",
    "model.add(MaxPool2D(pool_size = (2,2)))\n",
    "model.add(Flatten())\n",
    "model.add(Dense(300, activation = 'relu'))\n",
    "model.add(Dropout(0.3))\n",
    "model.add(Dense(10, activation = 'softmax'))"
   ]
  },
  {
   "cell_type": "code",
   "execution_count": 11,
   "id": "7433bbc2",
   "metadata": {
    "scrolled": false
   },
   "outputs": [
    {
     "name": "stdout",
     "output_type": "stream",
     "text": [
      "Model: \"sequential\"\n",
      "_________________________________________________________________\n",
      "Layer (type)                 Output Shape              Param #   \n",
      "=================================================================\n",
      "conv2d (Conv2D)              (None, 26, 26, 8)         80        \n",
      "_________________________________________________________________\n",
      "max_pooling2d (MaxPooling2D) (None, 13, 13, 8)         0         \n",
      "_________________________________________________________________\n",
      "flatten (Flatten)            (None, 1352)              0         \n",
      "_________________________________________________________________\n",
      "dense (Dense)                (None, 300)               405900    \n",
      "_________________________________________________________________\n",
      "dropout (Dropout)            (None, 300)               0         \n",
      "_________________________________________________________________\n",
      "dense_1 (Dense)              (None, 10)                3010      \n",
      "=================================================================\n",
      "Total params: 408,990\n",
      "Trainable params: 408,990\n",
      "Non-trainable params: 0\n",
      "_________________________________________________________________\n"
     ]
    }
   ],
   "source": [
    "model.summary()"
   ]
  },
  {
   "cell_type": "code",
   "execution_count": 12,
   "id": "902e4420",
   "metadata": {},
   "outputs": [],
   "source": [
    "opd = tf.keras.optimizers.Adam(\n",
    "    learning_rate=0.001)"
   ]
  },
  {
   "cell_type": "code",
   "execution_count": 13,
   "id": "8e9d8d4b",
   "metadata": {
    "scrolled": true
   },
   "outputs": [],
   "source": [
    "model.compile(optimizer = opd, loss = 'categorical_crossentropy', metrics=['accuracy'])"
   ]
  },
  {
   "cell_type": "code",
   "execution_count": 14,
   "id": "04f536d5",
   "metadata": {
    "scrolled": true
   },
   "outputs": [
    {
     "name": "stdout",
     "output_type": "stream",
     "text": [
      "Train on 48000 samples, validate on 12000 samples\n",
      "Epoch 1/125\n",
      "48000/48000 [==============================] - 25s 513us/sample - loss: 0.2076 - accuracy: 0.9389 - val_loss: 0.0777 - val_accuracy: 0.9766\n",
      "Epoch 2/125\n",
      "48000/48000 [==============================] - 24s 494us/sample - loss: 0.0778 - accuracy: 0.9769 - val_loss: 0.0560 - val_accuracy: 0.9818\n",
      "Epoch 3/125\n",
      "48000/48000 [==============================] - 24s 491us/sample - loss: 0.0535 - accuracy: 0.9835 - val_loss: 0.0506 - val_accuracy: 0.9848\n",
      "Epoch 4/125\n",
      "48000/48000 [==============================] - 24s 490us/sample - loss: 0.0392 - accuracy: 0.9877 - val_loss: 0.0473 - val_accuracy: 0.9850\n",
      "Epoch 5/125\n",
      "48000/48000 [==============================] - 26s 546us/sample - loss: 0.0294 - accuracy: 0.9907 - val_loss: 0.0491 - val_accuracy: 0.9860\n",
      "Epoch 6/125\n",
      "48000/48000 [==============================] - 879s 18ms/sample - loss: 0.0254 - accuracy: 0.9916 - val_loss: 0.0441 - val_accuracy: 0.9877\n",
      "Epoch 7/125\n",
      "48000/48000 [==============================] - 26s 539us/sample - loss: 0.0194 - accuracy: 0.9935 - val_loss: 0.0507 - val_accuracy: 0.9865\n",
      "Epoch 8/125\n",
      "48000/48000 [==============================] - 24s 499us/sample - loss: 0.0174 - accuracy: 0.9937 - val_loss: 0.0467 - val_accuracy: 0.9872\n",
      "Epoch 9/125\n",
      "48000/48000 [==============================] - 24s 496us/sample - loss: 0.0147 - accuracy: 0.9953 - val_loss: 0.0436 - val_accuracy: 0.9884\n",
      "Epoch 10/125\n",
      "48000/48000 [==============================] - 24s 498us/sample - loss: 0.0126 - accuracy: 0.9958 - val_loss: 0.0504 - val_accuracy: 0.9875\n",
      "Epoch 11/125\n",
      "48000/48000 [==============================] - 24s 493us/sample - loss: 0.0124 - accuracy: 0.9956 - val_loss: 0.0498 - val_accuracy: 0.9873\n",
      "Epoch 12/125\n",
      "48000/48000 [==============================] - 24s 497us/sample - loss: 0.0108 - accuracy: 0.9964 - val_loss: 0.0471 - val_accuracy: 0.9885\n",
      "Epoch 13/125\n",
      "48000/48000 [==============================] - 24s 493us/sample - loss: 0.0098 - accuracy: 0.9968 - val_loss: 0.0470 - val_accuracy: 0.9883\n",
      "Epoch 14/125\n",
      "48000/48000 [==============================] - 24s 491us/sample - loss: 0.0090 - accuracy: 0.9968 - val_loss: 0.0514 - val_accuracy: 0.9877\n",
      "Epoch 15/125\n",
      "48000/48000 [==============================] - 24s 499us/sample - loss: 0.0081 - accuracy: 0.9973 - val_loss: 0.0516 - val_accuracy: 0.9888\n",
      "Epoch 16/125\n",
      "48000/48000 [==============================] - 23s 489us/sample - loss: 0.0079 - accuracy: 0.9971 - val_loss: 0.0551 - val_accuracy: 0.9877\n",
      "Epoch 17/125\n",
      "48000/48000 [==============================] - 24s 493us/sample - loss: 0.0069 - accuracy: 0.9979 - val_loss: 0.0644 - val_accuracy: 0.9865\n",
      "Epoch 18/125\n",
      "48000/48000 [==============================] - 24s 492us/sample - loss: 0.0071 - accuracy: 0.9975 - val_loss: 0.0511 - val_accuracy: 0.9883\n",
      "Epoch 19/125\n",
      "48000/48000 [==============================] - 23s 488us/sample - loss: 0.0066 - accuracy: 0.9977 - val_loss: 0.0529 - val_accuracy: 0.9889\n",
      "Epoch 20/125\n",
      "48000/48000 [==============================] - 24s 494us/sample - loss: 0.0066 - accuracy: 0.9976 - val_loss: 0.0613 - val_accuracy: 0.9877\n",
      "Epoch 21/125\n",
      "48000/48000 [==============================] - 24s 496us/sample - loss: 0.0066 - accuracy: 0.9976 - val_loss: 0.0609 - val_accuracy: 0.9883\n",
      "Epoch 22/125\n",
      "48000/48000 [==============================] - 24s 494us/sample - loss: 0.0048 - accuracy: 0.9983 - val_loss: 0.0644 - val_accuracy: 0.9885\n",
      "Epoch 23/125\n",
      "48000/48000 [==============================] - 29s 597us/sample - loss: 0.0044 - accuracy: 0.9985 - val_loss: 0.0618 - val_accuracy: 0.9888\n",
      "Epoch 24/125\n",
      "48000/48000 [==============================] - 24s 498us/sample - loss: 0.0050 - accuracy: 0.9982 - val_loss: 0.0583 - val_accuracy: 0.9885\n",
      "Epoch 25/125\n",
      "48000/48000 [==============================] - 24s 497us/sample - loss: 0.0048 - accuracy: 0.9985 - val_loss: 0.0680 - val_accuracy: 0.9882\n",
      "Epoch 26/125\n",
      "48000/48000 [==============================] - 24s 507us/sample - loss: 0.0053 - accuracy: 0.9982 - val_loss: 0.0661 - val_accuracy: 0.9877\n",
      "Epoch 27/125\n",
      "48000/48000 [==============================] - 25s 523us/sample - loss: 0.0045 - accuracy: 0.9987 - val_loss: 0.0612 - val_accuracy: 0.9890\n",
      "Epoch 28/125\n",
      "48000/48000 [==============================] - 27s 565us/sample - loss: 0.0045 - accuracy: 0.9985 - val_loss: 0.0683 - val_accuracy: 0.9879\n",
      "Epoch 29/125\n",
      "48000/48000 [==============================] - 30s 618us/sample - loss: 0.0051 - accuracy: 0.9982 - val_loss: 0.0748 - val_accuracy: 0.9859\n",
      "Epoch 30/125\n",
      "48000/48000 [==============================] - 31s 655us/sample - loss: 0.0040 - accuracy: 0.9987 - val_loss: 0.0635 - val_accuracy: 0.9896\n",
      "Epoch 31/125\n",
      "48000/48000 [==============================] - 30s 627us/sample - loss: 0.0039 - accuracy: 0.9986 - val_loss: 0.0653 - val_accuracy: 0.9896\n",
      "Epoch 32/125\n",
      "48000/48000 [==============================] - 28s 590us/sample - loss: 0.0045 - accuracy: 0.9985 - val_loss: 0.0674 - val_accuracy: 0.9884\n",
      "Epoch 33/125\n",
      "48000/48000 [==============================] - 27s 566us/sample - loss: 0.0045 - accuracy: 0.9985 - val_loss: 0.0659 - val_accuracy: 0.9895\n",
      "Epoch 34/125\n",
      "48000/48000 [==============================] - 26s 540us/sample - loss: 0.0033 - accuracy: 0.9989 - val_loss: 0.0704 - val_accuracy: 0.9893\n",
      "Epoch 35/125\n",
      "48000/48000 [==============================] - 25s 527us/sample - loss: 0.0036 - accuracy: 0.9987 - val_loss: 0.0661 - val_accuracy: 0.9893\n",
      "Epoch 36/125\n",
      "48000/48000 [==============================] - 42s 877us/sample - loss: 0.0036 - accuracy: 0.9989 - val_loss: 0.0727 - val_accuracy: 0.9889\n",
      "Epoch 37/125\n",
      "48000/48000 [==============================] - 24s 496us/sample - loss: 0.0033 - accuracy: 0.9989 - val_loss: 0.0752 - val_accuracy: 0.9890\n",
      "Epoch 38/125\n",
      "48000/48000 [==============================] - 24s 492us/sample - loss: 0.0036 - accuracy: 0.9988 - val_loss: 0.0798 - val_accuracy: 0.9879\n",
      "Epoch 39/125\n",
      "48000/48000 [==============================] - 24s 493us/sample - loss: 0.0028 - accuracy: 0.9991 - val_loss: 0.0848 - val_accuracy: 0.9879\n",
      "Epoch 40/125\n",
      "48000/48000 [==============================] - 24s 494us/sample - loss: 0.0036 - accuracy: 0.9988 - val_loss: 0.0763 - val_accuracy: 0.9883\n",
      "Epoch 41/125\n",
      "48000/48000 [==============================] - 25s 524us/sample - loss: 0.0036 - accuracy: 0.9987 - val_loss: 0.0753 - val_accuracy: 0.9884\n",
      "Epoch 42/125\n",
      "48000/48000 [==============================] - 29s 595us/sample - loss: 0.0033 - accuracy: 0.9988 - val_loss: 0.0736 - val_accuracy: 0.9896\n",
      "Epoch 43/125\n",
      "48000/48000 [==============================] - 37s 776us/sample - loss: 0.0027 - accuracy: 0.9991 - val_loss: 0.0831 - val_accuracy: 0.9890\n",
      "Epoch 44/125\n",
      "48000/48000 [==============================] - 40s 835us/sample - loss: 0.0031 - accuracy: 0.9991 - val_loss: 0.0893 - val_accuracy: 0.9873\n",
      "Epoch 45/125\n",
      "48000/48000 [==============================] - 31s 647us/sample - loss: 0.0044 - accuracy: 0.9986 - val_loss: 0.0725 - val_accuracy: 0.9891\n",
      "Epoch 46/125\n",
      "48000/48000 [==============================] - 27s 564us/sample - loss: 0.0034 - accuracy: 0.9989 - val_loss: 0.0681 - val_accuracy: 0.9893\n",
      "Epoch 47/125\n",
      "48000/48000 [==============================] - 25s 527us/sample - loss: 0.0030 - accuracy: 0.9992 - val_loss: 0.0696 - val_accuracy: 0.9895\n",
      "Epoch 48/125\n",
      "48000/48000 [==============================] - 24s 506us/sample - loss: 0.0029 - accuracy: 0.9991 - val_loss: 0.0739 - val_accuracy: 0.9883\n",
      "Epoch 49/125\n",
      "48000/48000 [==============================] - 24s 493us/sample - loss: 0.0028 - accuracy: 0.9991 - val_loss: 0.0840 - val_accuracy: 0.9892\n",
      "Epoch 50/125\n",
      "48000/48000 [==============================] - 24s 494us/sample - loss: 0.0038 - accuracy: 0.9988 - val_loss: 0.0912 - val_accuracy: 0.9873\n",
      "Epoch 51/125\n",
      "48000/48000 [==============================] - 23s 489us/sample - loss: 0.0019 - accuracy: 0.9994 - val_loss: 0.0872 - val_accuracy: 0.9889\n",
      "Epoch 52/125\n",
      "48000/48000 [==============================] - 24s 493us/sample - loss: 0.0033 - accuracy: 0.9990 - val_loss: 0.0904 - val_accuracy: 0.9881\n",
      "Epoch 53/125\n",
      "48000/48000 [==============================] - 24s 490us/sample - loss: 0.0025 - accuracy: 0.9992 - val_loss: 0.0834 - val_accuracy: 0.9889\n",
      "Epoch 54/125\n",
      "48000/48000 [==============================] - 23s 483us/sample - loss: 0.0028 - accuracy: 0.9991 - val_loss: 0.0826 - val_accuracy: 0.9892\n",
      "Epoch 55/125\n",
      "48000/48000 [==============================] - 23s 484us/sample - loss: 0.0025 - accuracy: 0.9992 - val_loss: 0.0813 - val_accuracy: 0.9891\n",
      "Epoch 56/125\n",
      "48000/48000 [==============================] - 23s 487us/sample - loss: 0.0037 - accuracy: 0.9987 - val_loss: 0.0773 - val_accuracy: 0.9887\n",
      "Epoch 57/125\n",
      "48000/48000 [==============================] - 23s 488us/sample - loss: 0.0021 - accuracy: 0.9992 - val_loss: 0.0956 - val_accuracy: 0.9893\n",
      "Epoch 58/125\n",
      "48000/48000 [==============================] - 23s 487us/sample - loss: 0.0023 - accuracy: 0.9992 - val_loss: 0.0870 - val_accuracy: 0.9885\n",
      "Epoch 59/125\n",
      "48000/48000 [==============================] - 24s 492us/sample - loss: 0.0023 - accuracy: 0.9993 - val_loss: 0.0971 - val_accuracy: 0.9884\n",
      "Epoch 60/125\n",
      "48000/48000 [==============================] - 24s 490us/sample - loss: 0.0029 - accuracy: 0.9989 - val_loss: 0.0895 - val_accuracy: 0.9881\n",
      "Epoch 61/125\n",
      "48000/48000 [==============================] - 23s 486us/sample - loss: 0.0029 - accuracy: 0.9992 - val_loss: 0.0916 - val_accuracy: 0.9899\n",
      "Epoch 62/125\n",
      "48000/48000 [==============================] - 23s 487us/sample - loss: 0.0030 - accuracy: 0.9992 - val_loss: 0.0974 - val_accuracy: 0.9883\n",
      "Epoch 63/125\n",
      "48000/48000 [==============================] - 23s 485us/sample - loss: 0.0021 - accuracy: 0.9994 - val_loss: 0.0908 - val_accuracy: 0.9893\n",
      "Epoch 64/125\n",
      "48000/48000 [==============================] - 23s 487us/sample - loss: 0.0021 - accuracy: 0.9994 - val_loss: 0.1055 - val_accuracy: 0.9870\n",
      "Epoch 65/125\n",
      "48000/48000 [==============================] - 26s 552us/sample - loss: 0.0018 - accuracy: 0.9993 - val_loss: 0.1024 - val_accuracy: 0.9884\n",
      "Epoch 66/125\n",
      "48000/48000 [==============================] - 23s 487us/sample - loss: 0.0027 - accuracy: 0.9992 - val_loss: 0.0987 - val_accuracy: 0.9883\n",
      "Epoch 67/125\n",
      "48000/48000 [==============================] - 24s 490us/sample - loss: 0.0032 - accuracy: 0.9990 - val_loss: 0.1034 - val_accuracy: 0.9892\n",
      "Epoch 68/125\n",
      "48000/48000 [==============================] - 23s 488us/sample - loss: 0.0028 - accuracy: 0.9991 - val_loss: 0.0970 - val_accuracy: 0.9890\n",
      "Epoch 69/125\n",
      "48000/48000 [==============================] - 23s 489us/sample - loss: 0.0028 - accuracy: 0.9990 - val_loss: 0.1084 - val_accuracy: 0.9888\n",
      "Epoch 70/125\n",
      "48000/48000 [==============================] - 23s 488us/sample - loss: 0.0031 - accuracy: 0.9992 - val_loss: 0.0987 - val_accuracy: 0.9891\n",
      "Epoch 71/125\n",
      "48000/48000 [==============================] - 23s 488us/sample - loss: 0.0026 - accuracy: 0.9992 - val_loss: 0.0890 - val_accuracy: 0.9884\n",
      "Epoch 72/125\n",
      "48000/48000 [==============================] - 24s 507us/sample - loss: 0.0023 - accuracy: 0.9993 - val_loss: 0.0889 - val_accuracy: 0.9891\n",
      "Epoch 73/125\n",
      "48000/48000 [==============================] - 27s 559us/sample - loss: 0.0027 - accuracy: 0.9993 - val_loss: 0.0922 - val_accuracy: 0.9887\n",
      "Epoch 74/125\n",
      "48000/48000 [==============================] - 30s 621us/sample - loss: 0.0027 - accuracy: 0.9993 - val_loss: 0.0880 - val_accuracy: 0.9901\n",
      "Epoch 75/125\n",
      "48000/48000 [==============================] - 31s 655us/sample - loss: 0.0018 - accuracy: 0.9995 - val_loss: 0.0942 - val_accuracy: 0.9904\n",
      "Epoch 76/125\n",
      "48000/48000 [==============================] - 29s 607us/sample - loss: 0.0024 - accuracy: 0.9993 - val_loss: 0.0944 - val_accuracy: 0.9894\n",
      "Epoch 77/125\n",
      "48000/48000 [==============================] - 27s 570us/sample - loss: 0.0025 - accuracy: 0.9994 - val_loss: 0.0895 - val_accuracy: 0.9898\n",
      "Epoch 78/125\n",
      "48000/48000 [==============================] - 26s 540us/sample - loss: 0.0017 - accuracy: 0.9994 - val_loss: 0.1068 - val_accuracy: 0.9886\n",
      "Epoch 79/125\n",
      "48000/48000 [==============================] - 26s 532us/sample - loss: 0.0025 - accuracy: 0.9993 - val_loss: 0.0985 - val_accuracy: 0.9882\n",
      "Epoch 80/125\n",
      "48000/48000 [==============================] - 26s 534us/sample - loss: 0.0024 - accuracy: 0.9992 - val_loss: 0.1036 - val_accuracy: 0.9888\n",
      "Epoch 81/125\n",
      "48000/48000 [==============================] - 26s 548us/sample - loss: 0.0029 - accuracy: 0.9993 - val_loss: 0.1014 - val_accuracy: 0.9883\n",
      "Epoch 82/125\n",
      "48000/48000 [==============================] - 27s 559us/sample - loss: 0.0015 - accuracy: 0.9996 - val_loss: 0.0868 - val_accuracy: 0.9898\n",
      "Epoch 83/125\n",
      "48000/48000 [==============================] - 27s 554us/sample - loss: 0.0024 - accuracy: 0.9993 - val_loss: 0.1070 - val_accuracy: 0.9893\n",
      "Epoch 84/125\n",
      "48000/48000 [==============================] - 26s 545us/sample - loss: 0.0013 - accuracy: 0.9995 - val_loss: 0.0973 - val_accuracy: 0.9892\n",
      "Epoch 85/125\n",
      "48000/48000 [==============================] - 26s 538us/sample - loss: 0.0022 - accuracy: 0.9994 - val_loss: 0.1084 - val_accuracy: 0.9885\n",
      "Epoch 86/125\n",
      "48000/48000 [==============================] - 26s 533us/sample - loss: 0.0022 - accuracy: 0.9992 - val_loss: 0.1142 - val_accuracy: 0.9876\n",
      "Epoch 87/125\n",
      "48000/48000 [==============================] - 26s 537us/sample - loss: 8.3773e-04 - accuracy: 0.9996 - val_loss: 0.1202 - val_accuracy: 0.9880\n",
      "Epoch 88/125\n",
      "48000/48000 [==============================] - 26s 540us/sample - loss: 0.0033 - accuracy: 0.9991 - val_loss: 0.1186 - val_accuracy: 0.9887\n",
      "Epoch 89/125\n",
      "48000/48000 [==============================] - 26s 535us/sample - loss: 0.0022 - accuracy: 0.9992 - val_loss: 0.0965 - val_accuracy: 0.9891\n",
      "Epoch 90/125\n",
      "48000/48000 [==============================] - 26s 532us/sample - loss: 0.0019 - accuracy: 0.9995 - val_loss: 0.1085 - val_accuracy: 0.9881\n",
      "Epoch 91/125\n",
      "48000/48000 [==============================] - 26s 531us/sample - loss: 0.0015 - accuracy: 0.9995 - val_loss: 0.1015 - val_accuracy: 0.9887\n",
      "Epoch 92/125\n",
      "48000/48000 [==============================] - 25s 529us/sample - loss: 0.0019 - accuracy: 0.9994 - val_loss: 0.1048 - val_accuracy: 0.9893\n",
      "Epoch 93/125\n",
      "48000/48000 [==============================] - 25s 525us/sample - loss: 0.0022 - accuracy: 0.9994 - val_loss: 0.1058 - val_accuracy: 0.9885\n",
      "Epoch 94/125\n",
      "48000/48000 [==============================] - 25s 523us/sample - loss: 0.0024 - accuracy: 0.9993 - val_loss: 0.1047 - val_accuracy: 0.9892\n",
      "Epoch 95/125\n",
      "48000/48000 [==============================] - 25s 528us/sample - loss: 0.0019 - accuracy: 0.9994 - val_loss: 0.0996 - val_accuracy: 0.9898\n",
      "Epoch 96/125\n",
      "48000/48000 [==============================] - 25s 524us/sample - loss: 0.0014 - accuracy: 0.9995 - val_loss: 0.1299 - val_accuracy: 0.9885\n",
      "Epoch 97/125\n",
      "48000/48000 [==============================] - 25s 521us/sample - loss: 0.0015 - accuracy: 0.9995 - val_loss: 0.1055 - val_accuracy: 0.9896\n",
      "Epoch 98/125\n",
      "48000/48000 [==============================] - 25s 518us/sample - loss: 0.0033 - accuracy: 0.9991 - val_loss: 0.1048 - val_accuracy: 0.9889\n",
      "Epoch 99/125\n",
      "48000/48000 [==============================] - 24s 509us/sample - loss: 0.0021 - accuracy: 0.9992 - val_loss: 0.1230 - val_accuracy: 0.9866\n",
      "Epoch 100/125\n",
      "48000/48000 [==============================] - 24s 504us/sample - loss: 0.0016 - accuracy: 0.9995 - val_loss: 0.1214 - val_accuracy: 0.9898\n",
      "Epoch 101/125\n",
      "48000/48000 [==============================] - 24s 496us/sample - loss: 0.0023 - accuracy: 0.9994 - val_loss: 0.1081 - val_accuracy: 0.9892\n",
      "Epoch 102/125\n",
      "48000/48000 [==============================] - 24s 490us/sample - loss: 0.0017 - accuracy: 0.9995 - val_loss: 0.1083 - val_accuracy: 0.9886\n",
      "Epoch 103/125\n",
      "48000/48000 [==============================] - 23s 488us/sample - loss: 0.0019 - accuracy: 0.9994 - val_loss: 0.1130 - val_accuracy: 0.9886\n",
      "Epoch 104/125\n",
      "48000/48000 [==============================] - 24s 491us/sample - loss: 0.0018 - accuracy: 0.9995 - val_loss: 0.1059 - val_accuracy: 0.9887\n",
      "Epoch 105/125\n",
      "48000/48000 [==============================] - 24s 490us/sample - loss: 0.0020 - accuracy: 0.9994 - val_loss: 0.1002 - val_accuracy: 0.9894\n",
      "Epoch 106/125\n",
      "48000/48000 [==============================] - 23s 489us/sample - loss: 0.0015 - accuracy: 0.9997 - val_loss: 0.1177 - val_accuracy: 0.9893\n",
      "Epoch 107/125\n",
      "48000/48000 [==============================] - 374s 8ms/sample - loss: 0.0019 - accuracy: 0.9994 - val_loss: 0.1380 - val_accuracy: 0.9870\n",
      "Epoch 108/125\n",
      "48000/48000 [==============================] - 23s 484us/sample - loss: 0.0020 - accuracy: 0.9995 - val_loss: 0.1165 - val_accuracy: 0.9883\n",
      "Epoch 109/125\n",
      "48000/48000 [==============================] - 23s 487us/sample - loss: 0.0016 - accuracy: 0.9996 - val_loss: 0.1216 - val_accuracy: 0.9890\n",
      "Epoch 110/125\n",
      "48000/48000 [==============================] - 23s 486us/sample - loss: 0.0010 - accuracy: 0.9996 - val_loss: 0.1201 - val_accuracy: 0.9893\n",
      "Epoch 111/125\n",
      "48000/48000 [==============================] - 24s 490us/sample - loss: 0.0025 - accuracy: 0.9996 - val_loss: 0.1114 - val_accuracy: 0.9898\n",
      "Epoch 112/125\n",
      "48000/48000 [==============================] - 23s 488us/sample - loss: 0.0021 - accuracy: 0.9993 - val_loss: 0.1192 - val_accuracy: 0.9874\n",
      "Epoch 113/125\n",
      "48000/48000 [==============================] - 23s 485us/sample - loss: 0.0019 - accuracy: 0.9992 - val_loss: 0.1184 - val_accuracy: 0.9892\n",
      "Epoch 114/125\n",
      "48000/48000 [==============================] - 23s 486us/sample - loss: 0.0019 - accuracy: 0.9995 - val_loss: 0.1095 - val_accuracy: 0.9903\n",
      "Epoch 115/125\n",
      "48000/48000 [==============================] - 23s 488us/sample - loss: 0.0022 - accuracy: 0.9994 - val_loss: 0.1458 - val_accuracy: 0.9883\n",
      "Epoch 116/125\n",
      "48000/48000 [==============================] - 23s 484us/sample - loss: 0.0021 - accuracy: 0.9996 - val_loss: 0.1055 - val_accuracy: 0.9902\n",
      "Epoch 117/125\n",
      "48000/48000 [==============================] - 24s 503us/sample - loss: 0.0022 - accuracy: 0.9995 - val_loss: 0.1379 - val_accuracy: 0.9888\n",
      "Epoch 118/125\n",
      "48000/48000 [==============================] - 31s 647us/sample - loss: 0.0022 - accuracy: 0.9992 - val_loss: 0.1167 - val_accuracy: 0.9897\n",
      "Epoch 119/125\n",
      "48000/48000 [==============================] - 68s 1ms/sample - loss: 0.0022 - accuracy: 0.9994 - val_loss: 0.1060 - val_accuracy: 0.9900\n",
      "Epoch 120/125\n",
      "48000/48000 [==============================] - 69s 1ms/sample - loss: 0.0022 - accuracy: 0.9993 - val_loss: 0.1203 - val_accuracy: 0.9887\n",
      "Epoch 121/125\n",
      "48000/48000 [==============================] - 55s 1ms/sample - loss: 0.0018 - accuracy: 0.9994 - val_loss: 0.1139 - val_accuracy: 0.9898\n",
      "Epoch 122/125\n",
      "48000/48000 [==============================] - 34s 714us/sample - loss: 0.0018 - accuracy: 0.9995 - val_loss: 0.1140 - val_accuracy: 0.9902\n",
      "Epoch 123/125\n",
      "48000/48000 [==============================] - 29s 614us/sample - loss: 0.0015 - accuracy: 0.9996 - val_loss: 0.1196 - val_accuracy: 0.9895\n",
      "Epoch 124/125\n",
      "48000/48000 [==============================] - 28s 579us/sample - loss: 0.0017 - accuracy: 0.9996 - val_loss: 0.1230 - val_accuracy: 0.9884\n",
      "Epoch 125/125\n",
      "48000/48000 [==============================] - 27s 556us/sample - loss: 0.0021 - accuracy: 0.9994 - val_loss: 0.1301 - val_accuracy: 0.9887\n"
     ]
    }
   ],
   "source": [
    "hist = model.fit(x_train, y_train, batch_size = 28, epochs = 125, validation_data=(x_test, y_test))"
   ]
  },
  {
   "cell_type": "code",
   "execution_count": 16,
   "id": "80433a77",
   "metadata": {},
   "outputs": [
    {
     "data": {
      "image/png": "[encoded data removed]",
      "text/plain": [
       "<Figure size 432x288 with 1 Axes>"
      ]
     },
     "metadata": {
      "needs_background": "light"
     },
     "output_type": "display_data"
    }
   ],
   "source": [
    "# summarize history for loss\n",
    "import matplotlib.pyplot as plt\n",
    "plt.plot(hist.history['loss'])\n",
    "plt.plot(hist.history['val_loss'])\n",
    "plt.title('model loss')\n",
    "plt.ylabel('loss')\n",
    "plt.xlabel('epoch')\n",
    "plt.legend(['train', 'test'], loc='upper left')\n",
    "plt.show()"
   ]
  },
  {
   "cell_type": "code",
   "execution_count": null,
   "id": "ca685196",
   "metadata": {},
   "outputs": [],
   "source": []
  }
 ],
 "metadata": {
  "kernelspec": {
   "display_name": "Python 3",
   "language": "python",
   "name": "python3"
  },
  "language_info": {
   "codemirror_mode": {
    "name": "ipython",
    "version": 3
   },
   "file_extension": ".py",
   "mimetype": "text/x-python",
   "name": "python",
   "nbconvert_exporter": "python",
   "pygments_lexer": "ipython3",
   "version": "3.7.10"
  }
 },
 "nbformat": 4,
 "nbformat_minor": 5
}
