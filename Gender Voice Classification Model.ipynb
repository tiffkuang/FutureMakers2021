{
 "cells": [
  {
   "cell_type": "code",
   "execution_count": 50,
   "id": "c0d95962",
   "metadata": {},
   "outputs": [],
   "source": [
    "import numpy as np # linear algebra\n",
    "import pandas as pd # data processing\n",
    "import seaborn as sns\n",
    "import matplotlib.pyplot as plt\n",
    "# import warnings\n",
    "import warnings\n",
    "# filter warnings\n",
    "warnings.filterwarnings('ignore')\n",
    "import tensorflow as tf "
   ]
  },
  {
   "cell_type": "code",
   "execution_count": 51,
   "id": "8cb06244",
   "metadata": {
    "scrolled": true
   },
   "outputs": [
    {
     "name": "stdout",
     "output_type": "stream",
     "text": [
      "<class 'pandas.core.frame.DataFrame'>\n",
      "RangeIndex: 3168 entries, 0 to 3167\n",
      "Data columns (total 21 columns):\n",
      " #   Column    Non-Null Count  Dtype  \n",
      "---  ------    --------------  -----  \n",
      " 0   meanfreq  3168 non-null   float64\n",
      " 1   sd        3168 non-null   float64\n",
      " 2   median    3168 non-null   float64\n",
      " 3   Q25       3168 non-null   float64\n",
      " 4   Q75       3168 non-null   float64\n",
      " 5   IQR       3168 non-null   float64\n",
      " 6   skew      3168 non-null   float64\n",
      " 7   kurt      3168 non-null   float64\n",
      " 8   sp.ent    3168 non-null   float64\n",
      " 9   sfm       3168 non-null   float64\n",
      " 10  mode      3168 non-null   float64\n",
      " 11  centroid  3168 non-null   float64\n",
      " 12  meanfun   3168 non-null   float64\n",
      " 13  minfun    3168 non-null   float64\n",
      " 14  maxfun    3168 non-null   float64\n",
      " 15  meandom   3168 non-null   float64\n",
      " 16  mindom    3168 non-null   float64\n",
      " 17  maxdom    3168 non-null   float64\n",
      " 18  dfrange   3168 non-null   float64\n",
      " 19  modindx   3168 non-null   float64\n",
      " 20  label     3168 non-null   object \n",
      "dtypes: float64(20), object(1)\n",
      "memory usage: 519.9+ KB\n"
     ]
    }
   ],
   "source": [
    "voice_data = pd.read_csv(\"voice.csv\")\n",
    "voice_data.info()"
   ]
  },
  {
   "cell_type": "code",
   "execution_count": 52,
   "id": "e6e63f2a",
   "metadata": {
    "scrolled": true
   },
   "outputs": [
    {
     "data": {
      "text/html": [
       "<div>\n",
       "<style scoped>\n",
       "    .dataframe tbody tr th:only-of-type {\n",
       "        vertical-align: middle;\n",
       "    }\n",
       "\n",
       "    .dataframe tbody tr th {\n",
       "        vertical-align: top;\n",
       "    }\n",
       "\n",
       "    .dataframe thead th {\n",
       "        text-align: right;\n",
       "    }\n",
       "</style>\n",
       "<table border=\"1\" class=\"dataframe\">\n",
       "  <thead>\n",
       "    <tr style=\"text-align: right;\">\n",
       "      <th></th>\n",
       "      <th>meanfreq</th>\n",
       "      <th>sd</th>\n",
       "      <th>median</th>\n",
       "      <th>Q25</th>\n",
       "      <th>Q75</th>\n",
       "      <th>IQR</th>\n",
       "      <th>skew</th>\n",
       "      <th>kurt</th>\n",
       "      <th>sp.ent</th>\n",
       "      <th>sfm</th>\n",
       "      <th>...</th>\n",
       "      <th>centroid</th>\n",
       "      <th>meanfun</th>\n",
       "      <th>minfun</th>\n",
       "      <th>maxfun</th>\n",
       "      <th>meandom</th>\n",
       "      <th>mindom</th>\n",
       "      <th>maxdom</th>\n",
       "      <th>dfrange</th>\n",
       "      <th>modindx</th>\n",
       "      <th>label</th>\n",
       "    </tr>\n",
       "  </thead>\n",
       "  <tbody>\n",
       "    <tr>\n",
       "      <th>0</th>\n",
       "      <td>0.059781</td>\n",
       "      <td>0.064241</td>\n",
       "      <td>0.032027</td>\n",
       "      <td>0.015071</td>\n",
       "      <td>0.090193</td>\n",
       "      <td>0.075122</td>\n",
       "      <td>12.863462</td>\n",
       "      <td>274.402906</td>\n",
       "      <td>0.893369</td>\n",
       "      <td>0.491918</td>\n",
       "      <td>...</td>\n",
       "      <td>0.059781</td>\n",
       "      <td>0.084279</td>\n",
       "      <td>0.015702</td>\n",
       "      <td>0.275862</td>\n",
       "      <td>0.007812</td>\n",
       "      <td>0.007812</td>\n",
       "      <td>0.007812</td>\n",
       "      <td>0.000000</td>\n",
       "      <td>0.000000</td>\n",
       "      <td>male</td>\n",
       "    </tr>\n",
       "    <tr>\n",
       "      <th>1</th>\n",
       "      <td>0.066009</td>\n",
       "      <td>0.067310</td>\n",
       "      <td>0.040229</td>\n",
       "      <td>0.019414</td>\n",
       "      <td>0.092666</td>\n",
       "      <td>0.073252</td>\n",
       "      <td>22.423285</td>\n",
       "      <td>634.613855</td>\n",
       "      <td>0.892193</td>\n",
       "      <td>0.513724</td>\n",
       "      <td>...</td>\n",
       "      <td>0.066009</td>\n",
       "      <td>0.107937</td>\n",
       "      <td>0.015826</td>\n",
       "      <td>0.250000</td>\n",
       "      <td>0.009014</td>\n",
       "      <td>0.007812</td>\n",
       "      <td>0.054688</td>\n",
       "      <td>0.046875</td>\n",
       "      <td>0.052632</td>\n",
       "      <td>male</td>\n",
       "    </tr>\n",
       "    <tr>\n",
       "      <th>2</th>\n",
       "      <td>0.077316</td>\n",
       "      <td>0.083829</td>\n",
       "      <td>0.036718</td>\n",
       "      <td>0.008701</td>\n",
       "      <td>0.131908</td>\n",
       "      <td>0.123207</td>\n",
       "      <td>30.757155</td>\n",
       "      <td>1024.927705</td>\n",
       "      <td>0.846389</td>\n",
       "      <td>0.478905</td>\n",
       "      <td>...</td>\n",
       "      <td>0.077316</td>\n",
       "      <td>0.098706</td>\n",
       "      <td>0.015656</td>\n",
       "      <td>0.271186</td>\n",
       "      <td>0.007990</td>\n",
       "      <td>0.007812</td>\n",
       "      <td>0.015625</td>\n",
       "      <td>0.007812</td>\n",
       "      <td>0.046512</td>\n",
       "      <td>male</td>\n",
       "    </tr>\n",
       "    <tr>\n",
       "      <th>3</th>\n",
       "      <td>0.151228</td>\n",
       "      <td>0.072111</td>\n",
       "      <td>0.158011</td>\n",
       "      <td>0.096582</td>\n",
       "      <td>0.207955</td>\n",
       "      <td>0.111374</td>\n",
       "      <td>1.232831</td>\n",
       "      <td>4.177296</td>\n",
       "      <td>0.963322</td>\n",
       "      <td>0.727232</td>\n",
       "      <td>...</td>\n",
       "      <td>0.151228</td>\n",
       "      <td>0.088965</td>\n",
       "      <td>0.017798</td>\n",
       "      <td>0.250000</td>\n",
       "      <td>0.201497</td>\n",
       "      <td>0.007812</td>\n",
       "      <td>0.562500</td>\n",
       "      <td>0.554688</td>\n",
       "      <td>0.247119</td>\n",
       "      <td>male</td>\n",
       "    </tr>\n",
       "    <tr>\n",
       "      <th>4</th>\n",
       "      <td>0.135120</td>\n",
       "      <td>0.079146</td>\n",
       "      <td>0.124656</td>\n",
       "      <td>0.078720</td>\n",
       "      <td>0.206045</td>\n",
       "      <td>0.127325</td>\n",
       "      <td>1.101174</td>\n",
       "      <td>4.333713</td>\n",
       "      <td>0.971955</td>\n",
       "      <td>0.783568</td>\n",
       "      <td>...</td>\n",
       "      <td>0.135120</td>\n",
       "      <td>0.106398</td>\n",
       "      <td>0.016931</td>\n",
       "      <td>0.266667</td>\n",
       "      <td>0.712812</td>\n",
       "      <td>0.007812</td>\n",
       "      <td>5.484375</td>\n",
       "      <td>5.476562</td>\n",
       "      <td>0.208274</td>\n",
       "      <td>male</td>\n",
       "    </tr>\n",
       "  </tbody>\n",
       "</table>\n",
       "<p>5 rows × 21 columns</p>\n",
       "</div>"
      ],
      "text/plain": [
       "   meanfreq        sd    median       Q25       Q75       IQR       skew  \\\n",
       "0  0.059781  0.064241  0.032027  0.015071  0.090193  0.075122  12.863462   \n",
       "1  0.066009  0.067310  0.040229  0.019414  0.092666  0.073252  22.423285   \n",
       "2  0.077316  0.083829  0.036718  0.008701  0.131908  0.123207  30.757155   \n",
       "3  0.151228  0.072111  0.158011  0.096582  0.207955  0.111374   1.232831   \n",
       "4  0.135120  0.079146  0.124656  0.078720  0.206045  0.127325   1.101174   \n",
       "\n",
       "          kurt    sp.ent       sfm  ...  centroid   meanfun    minfun  \\\n",
       "0   274.402906  0.893369  0.491918  ...  0.059781  0.084279  0.015702   \n",
       "1   634.613855  0.892193  0.513724  ...  0.066009  0.107937  0.015826   \n",
       "2  1024.927705  0.846389  0.478905  ...  0.077316  0.098706  0.015656   \n",
       "3     4.177296  0.963322  0.727232  ...  0.151228  0.088965  0.017798   \n",
       "4     4.333713  0.971955  0.783568  ...  0.135120  0.106398  0.016931   \n",
       "\n",
       "     maxfun   meandom    mindom    maxdom   dfrange   modindx  label  \n",
       "0  0.275862  0.007812  0.007812  0.007812  0.000000  0.000000   male  \n",
       "1  0.250000  0.009014  0.007812  0.054688  0.046875  0.052632   male  \n",
       "2  0.271186  0.007990  0.007812  0.015625  0.007812  0.046512   male  \n",
       "3  0.250000  0.201497  0.007812  0.562500  0.554688  0.247119   male  \n",
       "4  0.266667  0.712812  0.007812  5.484375  5.476562  0.208274   male  \n",
       "\n",
       "[5 rows x 21 columns]"
      ]
     },
     "execution_count": 52,
     "metadata": {},
     "output_type": "execute_result"
    }
   ],
   "source": [
    "voice_data.head()"
   ]
  },
  {
   "cell_type": "code",
   "execution_count": 53,
   "id": "e2f3e3a4",
   "metadata": {},
   "outputs": [],
   "source": [
    "# Convert string label to float : male = 1, female = 0\n",
    "dict = {'label':{'male':1,'female':0}}\n",
    "voice_data.replace(dict,inplace = True)"
   ]
  },
  {
   "cell_type": "code",
   "execution_count": 54,
   "id": "e1cbc5e8",
   "metadata": {
    "scrolled": true
   },
   "outputs": [],
   "source": [
    "# Splitting dataset into X and y\n",
    "# :-1 means \"give me all the rows except last one\"\n",
    "x = voice_data.iloc[:,:-1].copy()\n",
    "y = voice_data.iloc[:,-1].copy()\n",
    "# x = voice_data.iloc[:,0:20].copy()\n",
    "#y = voice_data.iloc[:,20].copy()"
   ]
  },
  {
   "cell_type": "code",
   "execution_count": 55,
   "id": "6085af67",
   "metadata": {},
   "outputs": [],
   "source": [
    "# from sklearn import preprocessing\n",
    "from sklearn.preprocessing import MinMaxScaler"
   ]
  },
  {
   "cell_type": "code",
   "execution_count": 56,
   "id": "982ef394",
   "metadata": {},
   "outputs": [],
   "source": [
    "min_max_scaler = MinMaxScaler()\n",
    "x_scale = min_max_scaler.fit_transform(x)"
   ]
  },
  {
   "cell_type": "code",
   "execution_count": 57,
   "id": "a5bbd48b",
   "metadata": {},
   "outputs": [
    {
     "data": {
      "text/plain": [
       "array([[9.64185977e-02, 4.73408557e-01, 8.41252523e-02, ...,\n",
       "        0.00000000e+00, 0.00000000e+00, 0.00000000e+00],\n",
       "       [1.25828039e-01, 5.05074648e-01, 1.16899775e-01, ...,\n",
       "        2.14438885e-03, 2.14592275e-03, 5.64489929e-02],\n",
       "       [1.79222164e-01, 6.75535813e-01, 1.02872692e-01, ...,\n",
       "        3.57398142e-04, 3.57653791e-04, 4.98851565e-02],\n",
       "       ...,\n",
       "       [4.84948580e-01, 7.99042208e-01, 6.90336544e-01, ...,\n",
       "        1.34024303e-01, 1.34120172e-01, 2.08884632e-01],\n",
       "       [4.92516043e-01, 7.45692037e-01, 6.95311295e-01, ...,\n",
       "        1.64045747e-01, 1.64163090e-01, 3.33559435e-01],\n",
       "       [5.95699639e-01, 7.68963896e-01, 6.87590032e-01, ...,\n",
       "        2.50178699e-02, 2.50357654e-02, 3.75385802e-01]])"
      ]
     },
     "execution_count": 57,
     "metadata": {},
     "output_type": "execute_result"
    }
   ],
   "source": [
    "x_scale"
   ]
  },
  {
   "cell_type": "code",
   "execution_count": 58,
   "id": "16dacabc",
   "metadata": {
    "scrolled": true
   },
   "outputs": [],
   "source": [
    "from sklearn.model_selection import train_test_split\n",
    "x_train, x_val_and_test, y_train, y_val_and_test = train_test_split(x_scale, y, test_size=0.3)\n",
    "x_val, x_test, y_val, y_test = train_test_split(x_val_and_test, y_val_and_test, test_size=0.5)"
   ]
  },
  {
   "cell_type": "code",
   "execution_count": 59,
   "id": "9b6ed5c8",
   "metadata": {},
   "outputs": [
    {
     "name": "stdout",
     "output_type": "stream",
     "text": [
      "(2217, 20) (475, 20) (476, 20) (2217,) (475,) (476,)\n"
     ]
    }
   ],
   "source": [
    "print(x_train.shape, x_val.shape, x_test.shape, y_train.shape, y_val.shape, y_test.shape)\n"
   ]
  },
  {
   "cell_type": "code",
   "execution_count": 60,
   "id": "501f454f",
   "metadata": {},
   "outputs": [],
   "source": [
    "from tensorflow.keras.models import Sequential\n",
    "from tensorflow.keras.layers import Dense"
   ]
  },
  {
   "cell_type": "code",
   "execution_count": 61,
   "id": "84bde0eb",
   "metadata": {},
   "outputs": [],
   "source": [
    "model = Sequential([\n",
    "    Dense(20, activation='relu', input_shape=(20,)),\n",
    "    Dense(20, activation='relu'),\n",
    "    Dense(1, activation='sigmoid'),\n",
    "])"
   ]
  },
  {
   "cell_type": "code",
   "execution_count": 62,
   "id": "3ec72a90",
   "metadata": {
    "scrolled": false
   },
   "outputs": [
    {
     "name": "stdout",
     "output_type": "stream",
     "text": [
      "Model: \"sequential_2\"\n",
      "_________________________________________________________________\n",
      "Layer (type)                 Output Shape              Param #   \n",
      "=================================================================\n",
      "dense_6 (Dense)              (None, 20)                420       \n",
      "_________________________________________________________________\n",
      "dense_7 (Dense)              (None, 20)                420       \n",
      "_________________________________________________________________\n",
      "dense_8 (Dense)              (None, 1)                 21        \n",
      "=================================================================\n",
      "Total params: 861\n",
      "Trainable params: 861\n",
      "Non-trainable params: 0\n",
      "_________________________________________________________________\n"
     ]
    }
   ],
   "source": [
    "model.summary()"
   ]
  },
  {
   "cell_type": "code",
   "execution_count": 63,
   "id": "0c1df722",
   "metadata": {},
   "outputs": [],
   "source": [
    "opd = tf.keras.optimizers.Adam(\n",
    "    learning_rate=0.001)"
   ]
  },
  {
   "cell_type": "code",
   "execution_count": 64,
   "id": "b3eed952",
   "metadata": {},
   "outputs": [],
   "source": [
    "model.compile(optimizer = opd, loss = 'binary_crossentropy', metrics=['accuracy'])"
   ]
  },
  {
   "cell_type": "code",
   "execution_count": 65,
   "id": "7dd8bf4a",
   "metadata": {},
   "outputs": [],
   "source": [
    "#x_train = np.asarray(x_train)\n",
    "#y_train = np.asarray(y_train)\n",
    "#x_val = np.asarray(x_val)\n",
    "#y_val = np.asarray(y_val)"
   ]
  },
  {
   "cell_type": "code",
   "execution_count": 66,
   "id": "14094877",
   "metadata": {},
   "outputs": [
    {
     "name": "stdout",
     "output_type": "stream",
     "text": [
      "<class 'numpy.ndarray'>\n",
      "<class 'numpy.ndarray'>\n",
      "<class 'pandas.core.series.Series'>\n",
      "<class 'pandas.core.series.Series'>\n"
     ]
    }
   ],
   "source": [
    "print(type(x_train))\n",
    "print(type(x_test))\n",
    "print(type(y_train))\n",
    "print(type(y_test))"
   ]
  },
  {
   "cell_type": "code",
   "execution_count": 67,
   "id": "8be9b50f",
   "metadata": {},
   "outputs": [],
   "source": [
    "y_train = y_train.to_numpy()\n",
    "y_test = y_test.to_numpy()"
   ]
  },
  {
   "cell_type": "code",
   "execution_count": 68,
   "id": "72c7ea60",
   "metadata": {},
   "outputs": [
    {
     "name": "stdout",
     "output_type": "stream",
     "text": [
      "Train on 2217 samples, validate on 476 samples\n",
      "Epoch 1/64\n",
      "2217/2217 [==============================] - 1s 333us/sample - loss: 0.6396 - accuracy: 0.6594 - val_loss: 0.5596 - val_accuracy: 0.7731\n",
      "Epoch 2/64\n",
      "2217/2217 [==============================] - 0s 60us/sample - loss: 0.4731 - accuracy: 0.8286 - val_loss: 0.4010 - val_accuracy: 0.8676\n",
      "Epoch 3/64\n",
      "2217/2217 [==============================] - 0s 66us/sample - loss: 0.3628 - accuracy: 0.8714 - val_loss: 0.3153 - val_accuracy: 0.8845\n",
      "Epoch 4/64\n",
      "2217/2217 [==============================] - 0s 57us/sample - loss: 0.2832 - accuracy: 0.8985 - val_loss: 0.2473 - val_accuracy: 0.8950\n",
      "Epoch 5/64\n",
      "2217/2217 [==============================] - 0s 58us/sample - loss: 0.2109 - accuracy: 0.9328 - val_loss: 0.1719 - val_accuracy: 0.9601\n",
      "Epoch 6/64\n",
      "2217/2217 [==============================] - 0s 56us/sample - loss: 0.1645 - accuracy: 0.9544 - val_loss: 0.1449 - val_accuracy: 0.9727\n",
      "Epoch 7/64\n",
      "2217/2217 [==============================] - 0s 56us/sample - loss: 0.1396 - accuracy: 0.9603 - val_loss: 0.1134 - val_accuracy: 0.9706\n",
      "Epoch 8/64\n",
      "2217/2217 [==============================] - 0s 56us/sample - loss: 0.1213 - accuracy: 0.9635 - val_loss: 0.1034 - val_accuracy: 0.9769\n",
      "Epoch 9/64\n",
      "2217/2217 [==============================] - 0s 54us/sample - loss: 0.1122 - accuracy: 0.9671 - val_loss: 0.0945 - val_accuracy: 0.9727\n",
      "Epoch 10/64\n",
      "2217/2217 [==============================] - 0s 55us/sample - loss: 0.1062 - accuracy: 0.9653 - val_loss: 0.0930 - val_accuracy: 0.9769\n",
      "Epoch 11/64\n",
      "2217/2217 [==============================] - 0s 55us/sample - loss: 0.1014 - accuracy: 0.9662 - val_loss: 0.0865 - val_accuracy: 0.9727\n",
      "Epoch 12/64\n",
      "2217/2217 [==============================] - 0s 55us/sample - loss: 0.0983 - accuracy: 0.9693 - val_loss: 0.0904 - val_accuracy: 0.9685\n",
      "Epoch 13/64\n",
      "2217/2217 [==============================] - 0s 58us/sample - loss: 0.0989 - accuracy: 0.9698 - val_loss: 0.0837 - val_accuracy: 0.9727\n",
      "Epoch 14/64\n",
      "2217/2217 [==============================] - 0s 56us/sample - loss: 0.0929 - accuracy: 0.9698 - val_loss: 0.0874 - val_accuracy: 0.9790\n",
      "Epoch 15/64\n",
      "2217/2217 [==============================] - 0s 55us/sample - loss: 0.0899 - accuracy: 0.9693 - val_loss: 0.0809 - val_accuracy: 0.9748\n",
      "Epoch 16/64\n",
      "2217/2217 [==============================] - 0s 54us/sample - loss: 0.0901 - accuracy: 0.9698 - val_loss: 0.0801 - val_accuracy: 0.9727\n",
      "Epoch 17/64\n",
      "2217/2217 [==============================] - 0s 55us/sample - loss: 0.0897 - accuracy: 0.9684 - val_loss: 0.0913 - val_accuracy: 0.9748\n",
      "Epoch 18/64\n",
      "2217/2217 [==============================] - 0s 55us/sample - loss: 0.0906 - accuracy: 0.9698 - val_loss: 0.0968 - val_accuracy: 0.9727\n",
      "Epoch 19/64\n",
      "2217/2217 [==============================] - 0s 58us/sample - loss: 0.0876 - accuracy: 0.9689 - val_loss: 0.0768 - val_accuracy: 0.9748\n",
      "Epoch 20/64\n",
      "2217/2217 [==============================] - 0s 55us/sample - loss: 0.0863 - accuracy: 0.9738 - val_loss: 0.0787 - val_accuracy: 0.9727\n",
      "Epoch 21/64\n",
      "2217/2217 [==============================] - 0s 58us/sample - loss: 0.0846 - accuracy: 0.9729 - val_loss: 0.0761 - val_accuracy: 0.9748\n",
      "Epoch 22/64\n",
      "2217/2217 [==============================] - 0s 57us/sample - loss: 0.0849 - accuracy: 0.9734 - val_loss: 0.0863 - val_accuracy: 0.9769\n",
      "Epoch 23/64\n",
      "2217/2217 [==============================] - 0s 58us/sample - loss: 0.0835 - accuracy: 0.9702 - val_loss: 0.0752 - val_accuracy: 0.9748\n",
      "Epoch 24/64\n",
      "2217/2217 [==============================] - 0s 59us/sample - loss: 0.0806 - accuracy: 0.9752 - val_loss: 0.0755 - val_accuracy: 0.9748\n",
      "Epoch 25/64\n",
      "2217/2217 [==============================] - 0s 58us/sample - loss: 0.0795 - accuracy: 0.9729 - val_loss: 0.0796 - val_accuracy: 0.9790\n",
      "Epoch 26/64\n",
      "2217/2217 [==============================] - 0s 59us/sample - loss: 0.0797 - accuracy: 0.9734 - val_loss: 0.0788 - val_accuracy: 0.9790\n",
      "Epoch 27/64\n",
      "2217/2217 [==============================] - 0s 59us/sample - loss: 0.0797 - accuracy: 0.9752 - val_loss: 0.0738 - val_accuracy: 0.9748\n",
      "Epoch 28/64\n",
      "2217/2217 [==============================] - 0s 56us/sample - loss: 0.0799 - accuracy: 0.9738 - val_loss: 0.0728 - val_accuracy: 0.9748\n",
      "Epoch 29/64\n",
      "2217/2217 [==============================] - 0s 58us/sample - loss: 0.0790 - accuracy: 0.9734 - val_loss: 0.0736 - val_accuracy: 0.9811\n",
      "Epoch 30/64\n",
      "2217/2217 [==============================] - 0s 56us/sample - loss: 0.0759 - accuracy: 0.9761 - val_loss: 0.0781 - val_accuracy: 0.9727\n",
      "Epoch 31/64\n",
      "2217/2217 [==============================] - 0s 58us/sample - loss: 0.0794 - accuracy: 0.9752 - val_loss: 0.0735 - val_accuracy: 0.9811\n",
      "Epoch 32/64\n",
      "2217/2217 [==============================] - 0s 57us/sample - loss: 0.0758 - accuracy: 0.9756 - val_loss: 0.0765 - val_accuracy: 0.9769\n",
      "Epoch 33/64\n",
      "2217/2217 [==============================] - 0s 56us/sample - loss: 0.0766 - accuracy: 0.9774 - val_loss: 0.0746 - val_accuracy: 0.9790\n",
      "Epoch 34/64\n",
      "2217/2217 [==============================] - 0s 57us/sample - loss: 0.0773 - accuracy: 0.9734 - val_loss: 0.0737 - val_accuracy: 0.9790\n",
      "Epoch 35/64\n",
      "2217/2217 [==============================] - 0s 58us/sample - loss: 0.0750 - accuracy: 0.9761 - val_loss: 0.0695 - val_accuracy: 0.9769\n",
      "Epoch 36/64\n",
      "2217/2217 [==============================] - 0s 56us/sample - loss: 0.0739 - accuracy: 0.9752 - val_loss: 0.0833 - val_accuracy: 0.9748\n",
      "Epoch 37/64\n",
      "2217/2217 [==============================] - 0s 57us/sample - loss: 0.0753 - accuracy: 0.9761 - val_loss: 0.0683 - val_accuracy: 0.9769\n",
      "Epoch 38/64\n",
      "2217/2217 [==============================] - 0s 58us/sample - loss: 0.0749 - accuracy: 0.9756 - val_loss: 0.0694 - val_accuracy: 0.9769\n",
      "Epoch 39/64\n",
      "2217/2217 [==============================] - 0s 56us/sample - loss: 0.0718 - accuracy: 0.9761 - val_loss: 0.0752 - val_accuracy: 0.9811\n",
      "Epoch 40/64\n",
      "2217/2217 [==============================] - 0s 56us/sample - loss: 0.0717 - accuracy: 0.9761 - val_loss: 0.0702 - val_accuracy: 0.9790\n",
      "Epoch 41/64\n",
      "2217/2217 [==============================] - 0s 56us/sample - loss: 0.0713 - accuracy: 0.9770 - val_loss: 0.0696 - val_accuracy: 0.9769\n",
      "Epoch 42/64\n",
      "2217/2217 [==============================] - 0s 55us/sample - loss: 0.0734 - accuracy: 0.9752 - val_loss: 0.0702 - val_accuracy: 0.9811\n",
      "Epoch 43/64\n",
      "2217/2217 [==============================] - 0s 58us/sample - loss: 0.0730 - accuracy: 0.9774 - val_loss: 0.0661 - val_accuracy: 0.9769\n",
      "Epoch 44/64\n",
      "2217/2217 [==============================] - 0s 56us/sample - loss: 0.0752 - accuracy: 0.9770 - val_loss: 0.0666 - val_accuracy: 0.9832\n",
      "Epoch 45/64\n",
      "2217/2217 [==============================] - 0s 56us/sample - loss: 0.0703 - accuracy: 0.9765 - val_loss: 0.0679 - val_accuracy: 0.9811\n",
      "Epoch 46/64\n",
      "2217/2217 [==============================] - 0s 55us/sample - loss: 0.0686 - accuracy: 0.9783 - val_loss: 0.0713 - val_accuracy: 0.9811\n",
      "Epoch 47/64\n",
      "2217/2217 [==============================] - 0s 56us/sample - loss: 0.0683 - accuracy: 0.9783 - val_loss: 0.0696 - val_accuracy: 0.9811\n",
      "Epoch 48/64\n",
      "2217/2217 [==============================] - 0s 55us/sample - loss: 0.0688 - accuracy: 0.9779 - val_loss: 0.0660 - val_accuracy: 0.9811\n",
      "Epoch 49/64\n",
      "2217/2217 [==============================] - 0s 58us/sample - loss: 0.0678 - accuracy: 0.9788 - val_loss: 0.0665 - val_accuracy: 0.9811\n",
      "Epoch 50/64\n",
      "2217/2217 [==============================] - 0s 55us/sample - loss: 0.0677 - accuracy: 0.9783 - val_loss: 0.0662 - val_accuracy: 0.9769\n",
      "Epoch 51/64\n",
      "2217/2217 [==============================] - 0s 56us/sample - loss: 0.0673 - accuracy: 0.9770 - val_loss: 0.0651 - val_accuracy: 0.9832\n",
      "Epoch 52/64\n",
      "2217/2217 [==============================] - 0s 55us/sample - loss: 0.0669 - accuracy: 0.9774 - val_loss: 0.0677 - val_accuracy: 0.9769\n",
      "Epoch 53/64\n",
      "2217/2217 [==============================] - 0s 56us/sample - loss: 0.0694 - accuracy: 0.9797 - val_loss: 0.0707 - val_accuracy: 0.9790\n",
      "Epoch 54/64\n",
      "2217/2217 [==============================] - 0s 56us/sample - loss: 0.0667 - accuracy: 0.9783 - val_loss: 0.0685 - val_accuracy: 0.9811\n",
      "Epoch 55/64\n",
      "2217/2217 [==============================] - 0s 58us/sample - loss: 0.0663 - accuracy: 0.9774 - val_loss: 0.0638 - val_accuracy: 0.9790\n",
      "Epoch 56/64\n",
      "2217/2217 [==============================] - 0s 56us/sample - loss: 0.0651 - accuracy: 0.9774 - val_loss: 0.0683 - val_accuracy: 0.9769\n",
      "Epoch 57/64\n",
      "2217/2217 [==============================] - 0s 55us/sample - loss: 0.0670 - accuracy: 0.9788 - val_loss: 0.0637 - val_accuracy: 0.9790\n",
      "Epoch 58/64\n",
      "2217/2217 [==============================] - 0s 54us/sample - loss: 0.0665 - accuracy: 0.9756 - val_loss: 0.0683 - val_accuracy: 0.9790\n",
      "Epoch 59/64\n",
      "2217/2217 [==============================] - 0s 55us/sample - loss: 0.0626 - accuracy: 0.9788 - val_loss: 0.0695 - val_accuracy: 0.9811\n",
      "Epoch 60/64\n",
      "2217/2217 [==============================] - 0s 54us/sample - loss: 0.0640 - accuracy: 0.9788 - val_loss: 0.0676 - val_accuracy: 0.9811\n",
      "Epoch 61/64\n",
      "2217/2217 [==============================] - 0s 55us/sample - loss: 0.0628 - accuracy: 0.9793 - val_loss: 0.0633 - val_accuracy: 0.9811\n",
      "Epoch 62/64\n",
      "2217/2217 [==============================] - 0s 56us/sample - loss: 0.0645 - accuracy: 0.9788 - val_loss: 0.0635 - val_accuracy: 0.9790\n",
      "Epoch 63/64\n",
      "2217/2217 [==============================] - 0s 56us/sample - loss: 0.0614 - accuracy: 0.9802 - val_loss: 0.0677 - val_accuracy: 0.9811\n",
      "Epoch 64/64\n",
      "2217/2217 [==============================] - 0s 55us/sample - loss: 0.0614 - accuracy: 0.9788 - val_loss: 0.0698 - val_accuracy: 0.9811\n"
     ]
    }
   ],
   "source": [
    "hist = model.fit(x_train, y_train, batch_size = 28, epochs = 64, validation_data=(x_test, y_test))"
   ]
  },
  {
   "cell_type": "code",
   "execution_count": 69,
   "id": "d7efb8dc",
   "metadata": {},
   "outputs": [
    {
     "data": {
      "image/png": "[encoded data removed]",
      "text/plain": [
       "<Figure size 432x288 with 1 Axes>"
      ]
     },
     "metadata": {
      "needs_background": "light"
     },
     "output_type": "display_data"
    }
   ],
   "source": [
    "# summarize history for loss\n",
    "import matplotlib.pyplot as plt\n",
    "plt.plot(hist.history['loss'])\n",
    "plt.plot(hist.history['val_loss'])\n",
    "plt.title('model loss')\n",
    "plt.ylabel('loss')\n",
    "plt.xlabel('epoch')\n",
    "plt.legend(['train', 'test'], loc='upper left')\n",
    "plt.show()"
   ]
  }
 ],
 "metadata": {
  "kernelspec": {
   "display_name": "Python 3",
   "language": "python",
   "name": "python3"
  },
  "language_info": {
   "codemirror_mode": {
    "name": "ipython",
    "version": 3
   },
   "file_extension": ".py",
   "mimetype": "text/x-python",
   "name": "python",
   "nbconvert_exporter": "python",
   "pygments_lexer": "ipython3",
   "version": "3.7.10"
  }
 },
 "nbformat": 4,
 "nbformat_minor": 5
}
