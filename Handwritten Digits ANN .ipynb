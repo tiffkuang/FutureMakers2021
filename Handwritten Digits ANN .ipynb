{
 "cells": [
  {
   "cell_type": "code",
   "execution_count": 227,
   "id": "9dc83c5f",
   "metadata": {},
   "outputs": [
    {
     "name": "stdout",
     "output_type": "stream",
     "text": [
      "['Screen Shot 2021-02-14 at 12.12.41 PM.png', 'Screen Shot 2021-02-18 at 4.02.27 PM.png', 'Screen Shot 2021-06-09 at 1.14.23 AM.png', 'housing.csv', 'housepricedata.csv', 'Classification Practice.ipynb', 'Day 11.ipynb', 'Salary_Data.csv', 't10k-images-idx3-ubyte', 'Untitled1.ipynb', 'lab10_1.cpp', 'House Price Predictions .ipynb', '.DS_Store', 'Screen Shot 2021-05-12 at 12.40.06 PM.png', 'Screen Shot 2021-04-21 at 11.33.54 PM.png', 'Screen Shot 2021-02-17 at 5.29.41 PM.png', 'Screen Shot 2021-05-03 at 11.20.03 PM.png', 'archive', 'Screen Shot 2021-05-12 at 11.42.29 AM.png', 'Screen Shot 2021-05-12 at 12.56.31 PM.png', '.localized', 'Relocated Items.nosync', 'Screen Shot 2021-06-21 at 10.06.51 AM.png', 'Untitled.ipynb', 'Screen Shot 2021-04-24 at 1.07.52 PM.png', 'Screen Shot 2021-04-22 at 10.12.20 AM.png', 'Screen Shot 2021-06-29 at 10.56.46 PM.png', 'Screen Shot 2021-04-23 at 2.41.51 AM.png', 'Screen Shot 2021-02-18 at 4.02.19 PM.png', 't10k-labels-idx1-ubyte', 'Untitled2.ipynb', 'Handwritten Digits CNN (lr 0.1 graph).ipynb', 'Screen Shot 2021-04-28 at 12.52.38 PM.png', 'Adar_anthony', 'Tiffany Kuang District Sunset Stickers Receipt.png', 'Screen Shot 2021-05-27 at 2.21.32 PM.png', 'Screen Shot 2021-07-13 at 9.54.29 AM.png', 'Screen Shot 2021-04-21 at 10.10.50 AM.png', 'Data.csv', 'Screen Shot 2021-04-11 at 1.38.19 AM.png', 'Screen Shot 2021-04-10 at 10.26.11 PM.png', 'train-images-idx3-ubyte', 'Screen Shot 2021-05-05 at 11.05.15 PM.png', 'Screen Shot 2021-02-14 at 12.12.33 PM.png', 'Screen Shot 2021-04-14 at 10.56.22 PM.png', 'Day 8 Action Item.ipynb', 'Screen Shot 2021-05-08 at 9.25.46 AM.png', 'Regression Practice.ipynb', 'Sarcasm_Headlines_Dataset_v2.json', 'Screen Shot 2021-05-19 at 6.21.16 AM.png', '.ipynb_checkpoints', 'Screen Shot 2021-04-19 at 1.20.25 PM.png', 'Screen Shot 2021-05-03 at 11.47.04 AM.png', 'Screen Shot 2021-06-28 at 11.41.28 PM.png', 'Day 9.ipynb', 'Screen Shot 2021-05-12 at 12.44.12 PM.png', 'Screen Shot 2021-06-16 at 10.21.15 PM.png', 'Screen Shot 2021-05-02 at 3.46.13 PM.png', 'train-images-idx3-ubyte.gz', 'yearlyCalendar.txt', 'lab9_3.cpp', 'train-labels-idx1-ubyte', 'Social_Network_Ads.csv', 'Screen Shot 2021-05-05 at 11.05.11 PM.png', 'Preprocessing Practice.ipynb', 'Screen Shot 2021-04-20 at 10.14.02 AM.png', 'lab9_1.cpp', 'Screen Shot 2021-02-12 at 10.30.08 AM.png']\n"
     ]
    }
   ],
   "source": [
    "import numpy as np # linear algebra\n",
    "import pandas as pd # data processing\n",
    "import seaborn as sns\n",
    "import matplotlib.pyplot as plt\n",
    "# import warnings\n",
    "import warnings\n",
    "# filter warnings\n",
    "warnings.filterwarnings('ignore')\n",
    "import tensorflow as tf \n",
    "import os\n",
    "print(os.listdir(\"../desktop\"))"
   ]
  },
  {
   "cell_type": "code",
   "execution_count": 228,
   "id": "5bfd9853",
   "metadata": {},
   "outputs": [],
   "source": [
    "(x_train, y_train), (x_test, y_test) = tf.keras.datasets.mnist.load_data()"
   ]
  },
  {
   "cell_type": "code",
   "execution_count": 229,
   "id": "eed45173",
   "metadata": {},
   "outputs": [
    {
     "name": "stdout",
     "output_type": "stream",
     "text": [
      "x_train.shape:  (60000, 28, 28)\n",
      "x_test shape:  (10000, 28, 28)\n"
     ]
    }
   ],
   "source": [
    "# normalize the data\n",
    "x_train = x_train / 255.0\n",
    "x_test = x_test / 255.0\n",
    "print(\"x_train.shape: \", x_train.shape)\n",
    "print(\"x_test shape: \", x_test.shape)"
   ]
  },
  {
   "cell_type": "code",
   "execution_count": 230,
   "id": "bf355f43",
   "metadata": {},
   "outputs": [],
   "source": [
    "# label encoding\n",
    "from tensorflow.keras.utils import to_categorical # convert to one-hot-encoding\n",
    "y_train = to_categorical(y_train, num_classes = 10)"
   ]
  },
  {
   "cell_type": "code",
   "execution_count": 231,
   "id": "86a8f0c6",
   "metadata": {},
   "outputs": [
    {
     "name": "stdout",
     "output_type": "stream",
     "text": [
      "x_train shape (48000, 28, 28)\n",
      "x_test shape (12000, 28, 28)\n",
      "y_train shape (48000, 10)\n",
      "y_test shape (12000, 10)\n"
     ]
    }
   ],
   "source": [
    "# split the train and validation set for the fitting\n",
    "from sklearn.model_selection import train_test_split\n",
    "x_train, x_test, y_train, y_test = train_test_split(x_train, y_train, test_size = 0.2, random_state = 0)\n",
    "print(\"x_train shape\", x_train.shape)\n",
    "print(\"x_test shape\", x_test.shape)\n",
    "print(\"y_train shape\", y_train.shape)\n",
    "print(\"y_test shape\", y_test.shape)"
   ]
  },
  {
   "cell_type": "code",
   "execution_count": 232,
   "id": "003e8aac",
   "metadata": {},
   "outputs": [
    {
     "data": {
      "image/png": "[encoded data removed]",
      "text/plain": [
       "<Figure size 432x288 with 1 Axes>"
      ]
     },
     "metadata": {
      "needs_background": "light"
     },
     "output_type": "display_data"
    }
   ],
   "source": [
    "plt.imshow(x_train[4][:,:],cmap='gray')\n",
    "plt.show()"
   ]
  },
  {
   "cell_type": "code",
   "execution_count": 233,
   "id": "c44590a2",
   "metadata": {},
   "outputs": [],
   "source": [
    "from tensorflow.keras.models import Sequential\n",
    "from tensorflow.keras.layers import Dense, Dropout, Flatten, Conv2D, MaxPool2D\n",
    "from tensorflow.keras.optimizers import Adam"
   ]
  },
  {
   "cell_type": "code",
   "execution_count": 234,
   "id": "d83ebdd1",
   "metadata": {
    "scrolled": true
   },
   "outputs": [],
   "source": [
    "x_train = x_train.reshape(-1, 28, 28, 1)\n",
    "x_test = x_test.reshape(-1, 28, 28, 1)"
   ]
  },
  {
   "cell_type": "code",
   "execution_count": 235,
   "id": "5884c15b",
   "metadata": {
    "scrolled": true
   },
   "outputs": [
    {
     "name": "stdout",
     "output_type": "stream",
     "text": [
      "x_train.shape (48000, 28, 28)\n",
      "x_test.shape (12000, 28, 28)\n"
     ]
    }
   ],
   "source": [
    "print(\"x_train.shape\", x_train.shape)\n",
    "print(\"x_test.shape\", x_test.shape)"
   ]
  },
  {
   "cell_type": "code",
   "execution_count": 236,
   "id": "586aa842",
   "metadata": {
    "scrolled": true
   },
   "outputs": [],
   "source": [
    "# sequential model to initialise our ann and dense module to build the layers\n",
    "from tensorflow.keras.models import Sequential\n",
    "from tensorflow.keras.layers import Dense"
   ]
  },
  {
   "cell_type": "code",
   "execution_count": 254,
   "id": "84d60457",
   "metadata": {},
   "outputs": [],
   "source": [
    "# ANN\n",
    "model = Sequential()\n",
    "model.add(Dense(10, input_shape = (28,28), activation = 'relu'))\n",
    "model.add(Dense(10, activation = 'relu'))\n",
    "model.add(Flatten())\n",
    "model.add(Dense(10, activation = 'softmax'))"
   ]
  },
  {
   "cell_type": "code",
   "execution_count": 255,
   "id": "ef8fac30",
   "metadata": {
    "scrolled": true
   },
   "outputs": [
    {
     "name": "stdout",
     "output_type": "stream",
     "text": [
      "Model: \"sequential_22\"\n",
      "_________________________________________________________________\n",
      "Layer (type)                 Output Shape              Param #   \n",
      "=================================================================\n",
      "dense_63 (Dense)             (None, 28, 10)            290       \n",
      "_________________________________________________________________\n",
      "dense_64 (Dense)             (None, 28, 10)            110       \n",
      "_________________________________________________________________\n",
      "flatten_12 (Flatten)         (None, 280)               0         \n",
      "_________________________________________________________________\n",
      "dense_65 (Dense)             (None, 10)                2810      \n",
      "=================================================================\n",
      "Total params: 3,210\n",
      "Trainable params: 3,210\n",
      "Non-trainable params: 0\n",
      "_________________________________________________________________\n"
     ]
    }
   ],
   "source": [
    "model.summary()"
   ]
  },
  {
   "cell_type": "code",
   "execution_count": 256,
   "id": "2fe2700f",
   "metadata": {},
   "outputs": [],
   "source": [
    "opd = tf.keras.optimizers.Adam(\n",
    "    learning_rate=0.001)"
   ]
  },
  {
   "cell_type": "code",
   "execution_count": 257,
   "id": "2ddf65f3",
   "metadata": {},
   "outputs": [],
   "source": [
    "model.compile(optimizer = opd, loss = 'categorical_crossentropy', metrics=['accuracy'])"
   ]
  },
  {
   "cell_type": "code",
   "execution_count": 258,
   "id": "fd07cbdc",
   "metadata": {},
   "outputs": [
    {
     "name": "stdout",
     "output_type": "stream",
     "text": [
      "Train on 48000 samples, validate on 12000 samples\n",
      "Epoch 1/64\n",
      "48000/48000 [==============================] - 8s 165us/sample - loss: 0.4685 - accuracy: 0.8643 - val_loss: 0.2518 - val_accuracy: 0.9236\n",
      "Epoch 2/64\n",
      "48000/48000 [==============================] - 7s 140us/sample - loss: 0.2407 - accuracy: 0.9294 - val_loss: 0.1922 - val_accuracy: 0.9428\n",
      "Epoch 3/64\n",
      "48000/48000 [==============================] - 7s 141us/sample - loss: 0.2007 - accuracy: 0.9411 - val_loss: 0.1695 - val_accuracy: 0.9486\n",
      "Epoch 4/64\n",
      "48000/48000 [==============================] - 7s 148us/sample - loss: 0.1793 - accuracy: 0.9463 - val_loss: 0.1588 - val_accuracy: 0.9511\n",
      "Epoch 5/64\n",
      "48000/48000 [==============================] - 7s 150us/sample - loss: 0.1679 - accuracy: 0.9505 - val_loss: 0.1459 - val_accuracy: 0.9561\n",
      "Epoch 6/64\n",
      "48000/48000 [==============================] - 7s 144us/sample - loss: 0.1575 - accuracy: 0.9527 - val_loss: 0.1374 - val_accuracy: 0.9597\n",
      "Epoch 7/64\n",
      "48000/48000 [==============================] - 7s 140us/sample - loss: 0.1492 - accuracy: 0.9553 - val_loss: 0.1398 - val_accuracy: 0.9559\n",
      "Epoch 8/64\n",
      "48000/48000 [==============================] - 6s 134us/sample - loss: 0.1443 - accuracy: 0.9563 - val_loss: 0.1363 - val_accuracy: 0.9572\n",
      "Epoch 9/64\n",
      "48000/48000 [==============================] - 7s 138us/sample - loss: 0.1405 - accuracy: 0.9587 - val_loss: 0.1378 - val_accuracy: 0.9557\n",
      "Epoch 10/64\n",
      "48000/48000 [==============================] - 7s 136us/sample - loss: 0.1375 - accuracy: 0.9582 - val_loss: 0.1299 - val_accuracy: 0.9595\n",
      "Epoch 11/64\n",
      "48000/48000 [==============================] - 6s 135us/sample - loss: 0.1355 - accuracy: 0.9598 - val_loss: 0.1314 - val_accuracy: 0.9592\n",
      "Epoch 12/64\n",
      "48000/48000 [==============================] - 7s 147us/sample - loss: 0.1320 - accuracy: 0.9602 - val_loss: 0.1336 - val_accuracy: 0.9571\n",
      "Epoch 13/64\n",
      "48000/48000 [==============================] - 7s 148us/sample - loss: 0.1300 - accuracy: 0.9611 - val_loss: 0.1355 - val_accuracy: 0.9573\n",
      "Epoch 14/64\n",
      "48000/48000 [==============================] - 7s 141us/sample - loss: 0.1281 - accuracy: 0.9619 - val_loss: 0.1289 - val_accuracy: 0.9586\n",
      "Epoch 15/64\n",
      "48000/48000 [==============================] - 7s 143us/sample - loss: 0.1264 - accuracy: 0.9626 - val_loss: 0.1301 - val_accuracy: 0.9611\n",
      "Epoch 16/64\n",
      "48000/48000 [==============================] - 7s 155us/sample - loss: 0.1238 - accuracy: 0.9631 - val_loss: 0.1247 - val_accuracy: 0.9620\n",
      "Epoch 17/64\n",
      "48000/48000 [==============================] - 8s 157us/sample - loss: 0.1230 - accuracy: 0.9638 - val_loss: 0.1330 - val_accuracy: 0.9589\n",
      "Epoch 18/64\n",
      "48000/48000 [==============================] - 7s 154us/sample - loss: 0.1214 - accuracy: 0.9636 - val_loss: 0.1315 - val_accuracy: 0.9598\n",
      "Epoch 19/64\n",
      "48000/48000 [==============================] - 7s 145us/sample - loss: 0.1210 - accuracy: 0.9640 - val_loss: 0.1241 - val_accuracy: 0.9622\n",
      "Epoch 20/64\n",
      "48000/48000 [==============================] - 7s 140us/sample - loss: 0.1195 - accuracy: 0.9642 - val_loss: 0.1328 - val_accuracy: 0.9581\n",
      "Epoch 21/64\n",
      "48000/48000 [==============================] - 7s 139us/sample - loss: 0.1183 - accuracy: 0.9654 - val_loss: 0.1273 - val_accuracy: 0.9611\n",
      "Epoch 22/64\n",
      "48000/48000 [==============================] - 7s 140us/sample - loss: 0.1173 - accuracy: 0.9647 - val_loss: 0.1241 - val_accuracy: 0.9617\n",
      "Epoch 23/64\n",
      "48000/48000 [==============================] - 7s 142us/sample - loss: 0.1167 - accuracy: 0.9654 - val_loss: 0.1246 - val_accuracy: 0.9630\n",
      "Epoch 24/64\n",
      "48000/48000 [==============================] - 7s 139us/sample - loss: 0.1158 - accuracy: 0.9648 - val_loss: 0.1276 - val_accuracy: 0.9617\n",
      "Epoch 25/64\n",
      "48000/48000 [==============================] - 7s 139us/sample - loss: 0.1154 - accuracy: 0.9657 - val_loss: 0.1279 - val_accuracy: 0.9588\n",
      "Epoch 26/64\n",
      "48000/48000 [==============================] - 7s 140us/sample - loss: 0.1142 - accuracy: 0.9665 - val_loss: 0.1241 - val_accuracy: 0.9613\n",
      "Epoch 27/64\n",
      "48000/48000 [==============================] - 7s 139us/sample - loss: 0.1133 - accuracy: 0.9667 - val_loss: 0.1240 - val_accuracy: 0.9628\n",
      "Epoch 28/64\n",
      "48000/48000 [==============================] - 7s 139us/sample - loss: 0.1126 - accuracy: 0.9659 - val_loss: 0.1260 - val_accuracy: 0.9621\n",
      "Epoch 29/64\n",
      "48000/48000 [==============================] - 7s 146us/sample - loss: 0.1122 - accuracy: 0.9662 - val_loss: 0.1229 - val_accuracy: 0.9626\n",
      "Epoch 30/64\n",
      "48000/48000 [==============================] - 7s 140us/sample - loss: 0.1106 - accuracy: 0.9662 - val_loss: 0.1299 - val_accuracy: 0.9603\n",
      "Epoch 31/64\n",
      "48000/48000 [==============================] - 7s 148us/sample - loss: 0.1103 - accuracy: 0.9670 - val_loss: 0.1249 - val_accuracy: 0.9616\n",
      "Epoch 32/64\n",
      "48000/48000 [==============================] - 7s 145us/sample - loss: 0.1093 - accuracy: 0.9669 - val_loss: 0.1231 - val_accuracy: 0.9627\n",
      "Epoch 33/64\n",
      "48000/48000 [==============================] - 7s 146us/sample - loss: 0.1088 - accuracy: 0.9677 - val_loss: 0.1331 - val_accuracy: 0.9585\n",
      "Epoch 34/64\n",
      "48000/48000 [==============================] - 7s 143us/sample - loss: 0.1086 - accuracy: 0.9673 - val_loss: 0.1231 - val_accuracy: 0.9625\n",
      "Epoch 35/64\n",
      "48000/48000 [==============================] - 7s 146us/sample - loss: 0.1080 - accuracy: 0.9681 - val_loss: 0.1253 - val_accuracy: 0.9613\n",
      "Epoch 36/64\n",
      "48000/48000 [==============================] - 6s 133us/sample - loss: 0.1086 - accuracy: 0.9680 - val_loss: 0.1277 - val_accuracy: 0.9599\n",
      "Epoch 37/64\n",
      "48000/48000 [==============================] - 6s 135us/sample - loss: 0.1067 - accuracy: 0.9674 - val_loss: 0.1247 - val_accuracy: 0.9608\n",
      "Epoch 38/64\n",
      "48000/48000 [==============================] - 6s 133us/sample - loss: 0.1061 - accuracy: 0.9685 - val_loss: 0.1319 - val_accuracy: 0.9594\n",
      "Epoch 39/64\n",
      "48000/48000 [==============================] - 6s 135us/sample - loss: 0.1063 - accuracy: 0.9682 - val_loss: 0.1249 - val_accuracy: 0.9627\n",
      "Epoch 40/64\n",
      "48000/48000 [==============================] - 7s 143us/sample - loss: 0.1057 - accuracy: 0.9689 - val_loss: 0.1240 - val_accuracy: 0.9615\n",
      "Epoch 41/64\n",
      "48000/48000 [==============================] - 7s 147us/sample - loss: 0.1053 - accuracy: 0.9690 - val_loss: 0.1277 - val_accuracy: 0.9622\n",
      "Epoch 42/64\n",
      "48000/48000 [==============================] - 7s 142us/sample - loss: 0.1048 - accuracy: 0.9686 - val_loss: 0.1271 - val_accuracy: 0.9616\n",
      "Epoch 43/64\n",
      "48000/48000 [==============================] - 7s 140us/sample - loss: 0.1051 - accuracy: 0.9686 - val_loss: 0.1289 - val_accuracy: 0.9603\n",
      "Epoch 44/64\n",
      "48000/48000 [==============================] - 7s 143us/sample - loss: 0.1037 - accuracy: 0.9692 - val_loss: 0.1261 - val_accuracy: 0.9624\n",
      "Epoch 45/64\n",
      "48000/48000 [==============================] - 7s 154us/sample - loss: 0.1039 - accuracy: 0.9689 - val_loss: 0.1267 - val_accuracy: 0.9612\n",
      "Epoch 46/64\n",
      "48000/48000 [==============================] - 7s 149us/sample - loss: 0.1035 - accuracy: 0.9682 - val_loss: 0.1263 - val_accuracy: 0.9608\n",
      "Epoch 47/64\n",
      "48000/48000 [==============================] - 7s 147us/sample - loss: 0.1026 - accuracy: 0.9691 - val_loss: 0.1278 - val_accuracy: 0.9624\n",
      "Epoch 48/64\n",
      "48000/48000 [==============================] - 7s 146us/sample - loss: 0.1027 - accuracy: 0.9693 - val_loss: 0.1272 - val_accuracy: 0.9621\n",
      "Epoch 49/64\n",
      "48000/48000 [==============================] - 7s 139us/sample - loss: 0.1015 - accuracy: 0.9695 - val_loss: 0.1253 - val_accuracy: 0.9621\n",
      "Epoch 50/64\n",
      "48000/48000 [==============================] - 7s 149us/sample - loss: 0.1013 - accuracy: 0.9696 - val_loss: 0.1279 - val_accuracy: 0.9616\n",
      "Epoch 51/64\n",
      "48000/48000 [==============================] - 7s 143us/sample - loss: 0.1011 - accuracy: 0.9697 - val_loss: 0.1246 - val_accuracy: 0.9628\n",
      "Epoch 52/64\n",
      "48000/48000 [==============================] - 7s 139us/sample - loss: 0.1009 - accuracy: 0.9691 - val_loss: 0.1285 - val_accuracy: 0.9623\n",
      "Epoch 53/64\n",
      "48000/48000 [==============================] - 7s 142us/sample - loss: 0.1009 - accuracy: 0.9697 - val_loss: 0.1292 - val_accuracy: 0.9628\n",
      "Epoch 54/64\n",
      "48000/48000 [==============================] - 7s 139us/sample - loss: 0.1004 - accuracy: 0.9698 - val_loss: 0.1321 - val_accuracy: 0.9611\n",
      "Epoch 55/64\n",
      "48000/48000 [==============================] - 7s 138us/sample - loss: 0.1000 - accuracy: 0.9698 - val_loss: 0.1292 - val_accuracy: 0.9619\n",
      "Epoch 56/64\n",
      "48000/48000 [==============================] - 7s 138us/sample - loss: 0.1004 - accuracy: 0.9693 - val_loss: 0.1263 - val_accuracy: 0.9631\n",
      "Epoch 57/64\n",
      "48000/48000 [==============================] - 7s 139us/sample - loss: 0.0999 - accuracy: 0.9695 - val_loss: 0.1285 - val_accuracy: 0.9614\n",
      "Epoch 58/64\n",
      "48000/48000 [==============================] - 7s 138us/sample - loss: 0.0994 - accuracy: 0.9702 - val_loss: 0.1350 - val_accuracy: 0.9603\n",
      "Epoch 59/64\n",
      "48000/48000 [==============================] - 7s 137us/sample - loss: 0.0991 - accuracy: 0.9705 - val_loss: 0.1280 - val_accuracy: 0.9618\n",
      "Epoch 60/64\n",
      "48000/48000 [==============================] - 7s 138us/sample - loss: 0.0996 - accuracy: 0.9697 - val_loss: 0.1275 - val_accuracy: 0.9620\n",
      "Epoch 61/64\n",
      "48000/48000 [==============================] - 7s 138us/sample - loss: 0.0982 - accuracy: 0.9706 - val_loss: 0.1337 - val_accuracy: 0.9612\n",
      "Epoch 62/64\n",
      "48000/48000 [==============================] - 7s 139us/sample - loss: 0.0987 - accuracy: 0.9701 - val_loss: 0.1279 - val_accuracy: 0.9623\n",
      "Epoch 63/64\n",
      "48000/48000 [==============================] - 7s 139us/sample - loss: 0.0981 - accuracy: 0.9699 - val_loss: 0.1350 - val_accuracy: 0.9618\n",
      "Epoch 64/64\n",
      "48000/48000 [==============================] - 7s 141us/sample - loss: 0.0984 - accuracy: 0.9703 - val_loss: 0.1268 - val_accuracy: 0.9632\n"
     ]
    }
   ],
   "source": [
    "hist = model.fit(x_train, y_train, batch_size = 28, epochs = 64, validation_data=(x_test, y_test))"
   ]
  },
  {
   "cell_type": "code",
   "execution_count": 259,
   "id": "d98135d3",
   "metadata": {},
   "outputs": [
    {
     "data": {
      "image/png": "[encoded data removed]",
      "text/plain": [
       "<Figure size 432x288 with 1 Axes>"
      ]
     },
     "metadata": {
      "needs_background": "light"
     },
     "output_type": "display_data"
    }
   ],
   "source": [
    "# summarize history for loss\n",
    "import matplotlib.pyplot as plt\n",
    "plt.plot(hist.history['loss'])\n",
    "plt.plot(hist.history['val_loss'])\n",
    "plt.title('model loss')\n",
    "plt.ylabel('loss')\n",
    "plt.xlabel('epoch')\n",
    "plt.legend(['train', 'test'], loc='upper left')\n",
    "plt.show()"
   ]
  }
 ],
 "metadata": {
  "kernelspec": {
   "display_name": "Python 3",
   "language": "python",
   "name": "python3"
  },
  "language_info": {
   "codemirror_mode": {
    "name": "ipython",
    "version": 3
   },
   "file_extension": ".py",
   "mimetype": "text/x-python",
   "name": "python",
   "nbconvert_exporter": "python",
   "pygments_lexer": "ipython3",
   "version": "3.7.10"
  }
 },
 "nbformat": 4,
 "nbformat_minor": 5
}
